{
 "cells": [
  {
   "cell_type": "code",
   "execution_count": 62,
   "metadata": {},
   "outputs": [
    {
     "name": "stdout",
     "output_type": "stream",
     "text": [
      "2\n",
      "-1\n"
     ]
    }
   ],
   "source": [
    "fruit='banana'\n",
    "pos=fruit.find('na')\n",
    "print(pos)\n",
    "aa=fruit.find('z')\n",
    "print(aa)"
   ]
  },
  {
   "cell_type": "code",
   "execution_count": 63,
   "metadata": {},
   "outputs": [
    {
     "name": "stdout",
     "output_type": "stream",
     "text": [
      "hello bob\n",
      "HELLO BOB\n"
     ]
    }
   ],
   "source": [
    "greet='Hello Bob'\n",
    "print(greet.lower())\n",
    "print(greet.upper())"
   ]
  },
  {
   "cell_type": "code",
   "execution_count": 64,
   "metadata": {},
   "outputs": [
    {
     "name": "stdout",
     "output_type": "stream",
     "text": [
      "Hello Jane\n",
      "HellX BXb\n"
     ]
    }
   ],
   "source": [
    "greet='Hello Bob'\n",
    "nstr=greet.replace('Bob','Jane')\n",
    "print(nstr)\n",
    "mstr=greet.replace('o','X')\n",
    "print(mstr)"
   ]
  },
  {
   "cell_type": "code",
   "execution_count": 65,
   "metadata": {},
   "outputs": [
    {
     "name": "stdout",
     "output_type": "stream",
     "text": [
      "Hello Bob   \n"
     ]
    },
    {
     "data": {
      "text/plain": [
       "'   Hello Bob'"
      ]
     },
     "execution_count": 65,
     "metadata": {},
     "output_type": "execute_result"
    }
   ],
   "source": [
    "greet='   Hello Bob   '\n",
    "print(greet.lstrip())\n",
    "greet.rstrip()"
   ]
  },
  {
   "cell_type": "code",
   "execution_count": 66,
   "metadata": {},
   "outputs": [
    {
     "data": {
      "text/plain": [
       "True"
      ]
     },
     "execution_count": 66,
     "metadata": {},
     "output_type": "execute_result"
    }
   ],
   "source": [
    "line='Please have a nice day!'\n",
    "line.startswith('Please')"
   ]
  },
  {
   "cell_type": "code",
   "execution_count": 67,
   "metadata": {},
   "outputs": [
    {
     "data": {
      "text/plain": [
       "False"
      ]
     },
     "execution_count": 67,
     "metadata": {},
     "output_type": "execute_result"
    }
   ],
   "source": [
    "line='Please have a nice day!'\n",
    "line.startswith('p')"
   ]
  },
  {
   "cell_type": "code",
   "execution_count": 68,
   "metadata": {},
   "outputs": [
    {
     "name": "stdout",
     "output_type": "stream",
     "text": [
      "0.8475\n"
     ]
    }
   ],
   "source": [
    "text = \"X-DSPAM-Confidence:    0.8475\"\n",
    "a=text.find('0')\n",
    "b=text[a:]\n",
    "print(float(b))\n",
    "#print(float(text[a:]))"
   ]
  },
  {
   "cell_type": "code",
   "execution_count": 69,
   "metadata": {},
   "outputs": [
    {
     "name": "stdout",
     "output_type": "stream",
     "text": [
      "6\n",
      "7\n",
      "M\n"
     ]
    }
   ],
   "source": [
    "text = \"X-DSPAM-Confidence:    0.8475\"\n",
    "a=text.find('M')\n",
    "print (a)\n",
    "b=text.find('-',a)\n",
    "# find 可以放两个字符，表示在a后面找“-”\n",
    "print(b)\n",
    "print(text[a:b])"
   ]
  },
  {
   "cell_type": "code",
   "execution_count": 70,
   "metadata": {},
   "outputs": [
    {
     "ename": "KeyboardInterrupt",
     "evalue": "Interrupted by user",
     "output_type": "error",
     "traceback": [
      "\u001b[1;31m---------------------------------------------------------------------------\u001b[0m",
      "\u001b[1;31mKeyboardInterrupt\u001b[0m                         Traceback (most recent call last)",
      "\u001b[1;32m<ipython-input-70-c32d07cb03f7>\u001b[0m in \u001b[0;36m<module>\u001b[1;34m\u001b[0m\n\u001b[0;32m      1\u001b[0m \u001b[1;31m# Use the file name mbox-short.txt as the file name\u001b[0m\u001b[1;33m\u001b[0m\u001b[1;33m\u001b[0m\u001b[1;33m\u001b[0m\u001b[0m\n\u001b[1;32m----> 2\u001b[1;33m \u001b[0mfname\u001b[0m \u001b[1;33m=\u001b[0m \u001b[0minput\u001b[0m\u001b[1;33m(\u001b[0m\u001b[1;34m\"Enter file name: \"\u001b[0m\u001b[1;33m)\u001b[0m\u001b[1;33m\u001b[0m\u001b[1;33m\u001b[0m\u001b[0m\n\u001b[0m\u001b[0;32m      3\u001b[0m \u001b[0mfh\u001b[0m \u001b[1;33m=\u001b[0m \u001b[0mopen\u001b[0m\u001b[1;33m(\u001b[0m\u001b[0mfname\u001b[0m\u001b[1;33m)\u001b[0m\u001b[1;33m\u001b[0m\u001b[1;33m\u001b[0m\u001b[0m\n\u001b[0;32m      4\u001b[0m \u001b[0mcount\u001b[0m\u001b[1;33m=\u001b[0m\u001b[1;36m0\u001b[0m\u001b[1;33m\u001b[0m\u001b[1;33m\u001b[0m\u001b[0m\n\u001b[0;32m      5\u001b[0m \u001b[0ms\u001b[0m \u001b[1;33m=\u001b[0m \u001b[1;36m0\u001b[0m\u001b[1;33m\u001b[0m\u001b[1;33m\u001b[0m\u001b[0m\n",
      "\u001b[1;32mC:\\Program Files\\Anaconda3\\lib\\site-packages\\ipykernel\\kernelbase.py\u001b[0m in \u001b[0;36mraw_input\u001b[1;34m(self, prompt)\u001b[0m\n\u001b[0;32m    858\u001b[0m                 \u001b[1;34m\"raw_input was called, but this frontend does not support input requests.\"\u001b[0m\u001b[1;33m\u001b[0m\u001b[1;33m\u001b[0m\u001b[0m\n\u001b[0;32m    859\u001b[0m             )\n\u001b[1;32m--> 860\u001b[1;33m         return self._input_request(str(prompt),\n\u001b[0m\u001b[0;32m    861\u001b[0m             \u001b[0mself\u001b[0m\u001b[1;33m.\u001b[0m\u001b[0m_parent_ident\u001b[0m\u001b[1;33m,\u001b[0m\u001b[1;33m\u001b[0m\u001b[1;33m\u001b[0m\u001b[0m\n\u001b[0;32m    862\u001b[0m             \u001b[0mself\u001b[0m\u001b[1;33m.\u001b[0m\u001b[0m_parent_header\u001b[0m\u001b[1;33m,\u001b[0m\u001b[1;33m\u001b[0m\u001b[1;33m\u001b[0m\u001b[0m\n",
      "\u001b[1;32mC:\\Program Files\\Anaconda3\\lib\\site-packages\\ipykernel\\kernelbase.py\u001b[0m in \u001b[0;36m_input_request\u001b[1;34m(self, prompt, ident, parent, password)\u001b[0m\n\u001b[0;32m    902\u001b[0m             \u001b[1;32mexcept\u001b[0m \u001b[0mKeyboardInterrupt\u001b[0m\u001b[1;33m:\u001b[0m\u001b[1;33m\u001b[0m\u001b[1;33m\u001b[0m\u001b[0m\n\u001b[0;32m    903\u001b[0m                 \u001b[1;31m# re-raise KeyboardInterrupt, to truncate traceback\u001b[0m\u001b[1;33m\u001b[0m\u001b[1;33m\u001b[0m\u001b[1;33m\u001b[0m\u001b[0m\n\u001b[1;32m--> 904\u001b[1;33m                 \u001b[1;32mraise\u001b[0m \u001b[0mKeyboardInterrupt\u001b[0m\u001b[1;33m(\u001b[0m\u001b[1;34m\"Interrupted by user\"\u001b[0m\u001b[1;33m)\u001b[0m \u001b[1;32mfrom\u001b[0m \u001b[1;32mNone\u001b[0m\u001b[1;33m\u001b[0m\u001b[1;33m\u001b[0m\u001b[0m\n\u001b[0m\u001b[0;32m    905\u001b[0m             \u001b[1;32mexcept\u001b[0m \u001b[0mException\u001b[0m \u001b[1;32mas\u001b[0m \u001b[0me\u001b[0m\u001b[1;33m:\u001b[0m\u001b[1;33m\u001b[0m\u001b[1;33m\u001b[0m\u001b[0m\n\u001b[0;32m    906\u001b[0m                 \u001b[0mself\u001b[0m\u001b[1;33m.\u001b[0m\u001b[0mlog\u001b[0m\u001b[1;33m.\u001b[0m\u001b[0mwarning\u001b[0m\u001b[1;33m(\u001b[0m\u001b[1;34m\"Invalid Message:\"\u001b[0m\u001b[1;33m,\u001b[0m \u001b[0mexc_info\u001b[0m\u001b[1;33m=\u001b[0m\u001b[1;32mTrue\u001b[0m\u001b[1;33m)\u001b[0m\u001b[1;33m\u001b[0m\u001b[1;33m\u001b[0m\u001b[0m\n",
      "\u001b[1;31mKeyboardInterrupt\u001b[0m: Interrupted by user"
     ]
    }
   ],
   "source": [
    "\n",
    "# Use the file name mbox-short.txt as the file name\n",
    "fname = input(\"Enter file name: \")\n",
    "fh = open(fname)\n",
    "count=0\n",
    "s = 0\n",
    "for line in fh:\n",
    "    line=line.rstrip()\n",
    "    if not line.startswith(\"X-DSPAM-Confidence:\"):\n",
    "        continue\n",
    "    x=line.find('0')\n",
    "    y=line[x:]\n",
    "    #print(y)\n",
    "    count=count+1\n",
    "    s = float(y) +s\n",
    "print('Average spam confidence:',s/count)\n",
    "    \n",
    "\n",
    "\n",
    "\n"
   ]
  },
  {
   "cell_type": "code",
   "execution_count": null,
   "metadata": {},
   "outputs": [
    {
     "data": {
      "text/plain": [
       "'Hello\\nWorld!'"
      ]
     },
     "execution_count": 52,
     "metadata": {},
     "output_type": "execute_result"
    }
   ],
   "source": [
    "stuff='Hello\\nWorld!'\n",
    "stuff"
   ]
  },
  {
   "cell_type": "code",
   "execution_count": 71,
   "metadata": {},
   "outputs": [
    {
     "name": "stdout",
     "output_type": "stream",
     "text": [
      "Hello\n",
      "World!\n"
     ]
    },
    {
     "data": {
      "text/plain": [
       "12"
      ]
     },
     "execution_count": 71,
     "metadata": {},
     "output_type": "execute_result"
    }
   ],
   "source": [
    "stuff='Hello\\nWorld!'\n",
    "print(stuff)\n",
    "len(stuff)"
   ]
  },
  {
   "cell_type": "code",
   "execution_count": 72,
   "metadata": {},
   "outputs": [
    {
     "ename": "FileNotFoundError",
     "evalue": "[Errno 2] No such file or directory: 'mbox.txt'",
     "output_type": "error",
     "traceback": [
      "\u001b[1;31m---------------------------------------------------------------------------\u001b[0m",
      "\u001b[1;31mFileNotFoundError\u001b[0m                         Traceback (most recent call last)",
      "\u001b[1;32m<ipython-input-72-be7ed0dcddfd>\u001b[0m in \u001b[0;36m<module>\u001b[1;34m\u001b[0m\n\u001b[1;32m----> 1\u001b[1;33m \u001b[0mfhand\u001b[0m\u001b[1;33m=\u001b[0m\u001b[0mopen\u001b[0m\u001b[1;33m(\u001b[0m\u001b[1;34m'mbox.txt'\u001b[0m\u001b[1;33m)\u001b[0m\u001b[1;33m\u001b[0m\u001b[1;33m\u001b[0m\u001b[0m\n\u001b[0m\u001b[0;32m      2\u001b[0m \u001b[0mcount\u001b[0m\u001b[1;33m=\u001b[0m\u001b[1;36m0\u001b[0m\u001b[1;33m\u001b[0m\u001b[1;33m\u001b[0m\u001b[0m\n\u001b[0;32m      3\u001b[0m \u001b[1;32mfor\u001b[0m \u001b[0mline\u001b[0m \u001b[1;32min\u001b[0m \u001b[0mfhand\u001b[0m\u001b[1;33m:\u001b[0m\u001b[1;33m\u001b[0m\u001b[1;33m\u001b[0m\u001b[0m\n\u001b[0;32m      4\u001b[0m     \u001b[0mcount\u001b[0m\u001b[1;33m=\u001b[0m\u001b[0mcount\u001b[0m\u001b[1;33m+\u001b[0m\u001b[1;36m1\u001b[0m\u001b[1;33m\u001b[0m\u001b[1;33m\u001b[0m\u001b[0m\n\u001b[0;32m      5\u001b[0m \u001b[0mprint\u001b[0m\u001b[1;33m(\u001b[0m\u001b[1;34m'Line Count:'\u001b[0m\u001b[1;33m,\u001b[0m \u001b[0mcount\u001b[0m\u001b[1;33m)\u001b[0m\u001b[1;33m\u001b[0m\u001b[1;33m\u001b[0m\u001b[0m\n",
      "\u001b[1;31mFileNotFoundError\u001b[0m: [Errno 2] No such file or directory: 'mbox.txt'"
     ]
    }
   ],
   "source": [
    "fhand=open('mbox.txt')\n",
    "count=0\n",
    "for line in fhand:\n",
    "    count=count+1\n",
    "print('Line Count:', count)"
   ]
  },
  {
   "cell_type": "code",
   "execution_count": 73,
   "metadata": {},
   "outputs": [
    {
     "ename": "FileNotFoundError",
     "evalue": "[Errno 2] No such file or directory: 'mbox.txt'",
     "output_type": "error",
     "traceback": [
      "\u001b[1;31m---------------------------------------------------------------------------\u001b[0m",
      "\u001b[1;31mFileNotFoundError\u001b[0m                         Traceback (most recent call last)",
      "\u001b[1;32m<ipython-input-73-d41fc45b4844>\u001b[0m in \u001b[0;36m<module>\u001b[1;34m\u001b[0m\n\u001b[1;32m----> 1\u001b[1;33m \u001b[0mfhand\u001b[0m\u001b[1;33m=\u001b[0m\u001b[0mopen\u001b[0m\u001b[1;33m(\u001b[0m\u001b[1;34m'mbox.txt'\u001b[0m\u001b[1;33m)\u001b[0m\u001b[1;33m\u001b[0m\u001b[1;33m\u001b[0m\u001b[0m\n\u001b[0m\u001b[0;32m      2\u001b[0m \u001b[1;32mfor\u001b[0m \u001b[0mline\u001b[0m \u001b[1;32min\u001b[0m \u001b[0mfhand\u001b[0m\u001b[1;33m:\u001b[0m\u001b[1;33m\u001b[0m\u001b[1;33m\u001b[0m\u001b[0m\n\u001b[0;32m      3\u001b[0m     \u001b[0mline\u001b[0m\u001b[1;33m=\u001b[0m\u001b[0mline\u001b[0m\u001b[1;33m.\u001b[0m\u001b[0mrstrip\u001b[0m\u001b[1;33m(\u001b[0m\u001b[1;33m)\u001b[0m\u001b[1;33m\u001b[0m\u001b[1;33m\u001b[0m\u001b[0m\n\u001b[0;32m      4\u001b[0m     \u001b[1;32mif\u001b[0m \u001b[0mline\u001b[0m\u001b[1;33m.\u001b[0m\u001b[0mstartswith\u001b[0m\u001b[1;33m(\u001b[0m\u001b[1;34m'From'\u001b[0m\u001b[1;33m)\u001b[0m\u001b[1;33m:\u001b[0m\u001b[1;33m\u001b[0m\u001b[1;33m\u001b[0m\u001b[0m\n\u001b[0;32m      5\u001b[0m         \u001b[0mprint\u001b[0m\u001b[1;33m(\u001b[0m\u001b[0mline\u001b[0m\u001b[1;33m)\u001b[0m\u001b[1;33m\u001b[0m\u001b[1;33m\u001b[0m\u001b[0m\n",
      "\u001b[1;31mFileNotFoundError\u001b[0m: [Errno 2] No such file or directory: 'mbox.txt'"
     ]
    }
   ],
   "source": [
    "fhand=open('mbox.txt')\n",
    "for line in fhand:\n",
    "    line=line.rstrip()\n",
    "    if line.startswith('From'):\n",
    "        print(line)"
   ]
  },
  {
   "cell_type": "code",
   "execution_count": null,
   "metadata": {},
   "outputs": [],
   "source": [
    "fhand=open('mbox.txt')\n",
    "for line in fhand:\n",
    "    line=line.rstrip()\n",
    "    if not line.startswith('From'):\n",
    "        continue\n",
    "    print(line)"
   ]
  },
  {
   "cell_type": "code",
   "execution_count": null,
   "metadata": {},
   "outputs": [],
   "source": [
    "# Use words.txt as the file name\n",
    "fname = input(\"Enter file name: \")\n",
    "fh = open(fname)\n",
    "x=fh.read()\n",
    "y=x.rstrip()\n",
    "print(y.upper())"
   ]
  },
  {
   "cell_type": "code",
   "execution_count": null,
   "metadata": {},
   "outputs": [],
   "source": [
    "# Use words.txt as the file name\n",
    "# fname = \n",
    "# fh = \n",
    "print(open(input(\"Enter file name: \")).read().rstrip().upper())\n",
    "# x=fh.read()\n",
    "# y=x.rstrip()\n",
    "# print(y.upper())"
   ]
  },
  {
   "cell_type": "code",
   "execution_count": 74,
   "metadata": {},
   "outputs": [
    {
     "name": "stdout",
     "output_type": "stream",
     "text": [
      "[0, 1, 2, 3, 4]\n"
     ]
    }
   ],
   "source": [
    "x = list(range(5))\n",
    "print(x)"
   ]
  },
  {
   "cell_type": "code",
   "execution_count": 75,
   "metadata": {},
   "outputs": [
    {
     "name": "stdout",
     "output_type": "stream",
     "text": [
      "6\n"
     ]
    }
   ],
   "source": [
    "a = [1, 2, 3]\n",
    "b = [4, 5, 6]\n",
    "c = a + b\n",
    "print(len(c))"
   ]
  },
  {
   "cell_type": "code",
   "execution_count": 76,
   "metadata": {},
   "outputs": [
    {
     "ename": "TypeError",
     "evalue": "'str' object does not support item assignment",
     "output_type": "error",
     "traceback": [
      "\u001b[1;31m---------------------------------------------------------------------------\u001b[0m",
      "\u001b[1;31mTypeError\u001b[0m                                 Traceback (most recent call last)",
      "\u001b[1;32m<ipython-input-76-947d10fd42e9>\u001b[0m in \u001b[0;36m<module>\u001b[1;34m\u001b[0m\n\u001b[0;32m      1\u001b[0m \u001b[0mfruit\u001b[0m \u001b[1;33m=\u001b[0m \u001b[1;34m'Banana'\u001b[0m\u001b[1;33m\u001b[0m\u001b[1;33m\u001b[0m\u001b[0m\n\u001b[1;32m----> 2\u001b[1;33m \u001b[0mfruit\u001b[0m\u001b[1;33m[\u001b[0m\u001b[1;36m0\u001b[0m\u001b[1;33m]\u001b[0m \u001b[1;33m=\u001b[0m \u001b[1;34m'b'\u001b[0m\u001b[1;33m\u001b[0m\u001b[1;33m\u001b[0m\u001b[0m\n\u001b[0m\u001b[0;32m      3\u001b[0m \u001b[0mprint\u001b[0m\u001b[1;33m(\u001b[0m\u001b[0mfruit\u001b[0m\u001b[1;33m)\u001b[0m\u001b[1;33m\u001b[0m\u001b[1;33m\u001b[0m\u001b[0m\n",
      "\u001b[1;31mTypeError\u001b[0m: 'str' object does not support item assignment"
     ]
    }
   ],
   "source": [
    "fruit = 'Banana'\n",
    "fruit[0] = 'b'\n",
    "print(fruit)"
   ]
  },
  {
   "cell_type": "code",
   "execution_count": 77,
   "metadata": {},
   "outputs": [
    {
     "name": "stdout",
     "output_type": "stream",
     "text": [
      "range(0, 4)\n"
     ]
    }
   ],
   "source": [
    "print(range(4))"
   ]
  },
  {
   "cell_type": "code",
   "execution_count": 78,
   "metadata": {},
   "outputs": [
    {
     "name": "stdout",
     "output_type": "stream",
     "text": [
      "3\n"
     ]
    }
   ],
   "source": [
    "friends=['Joseoh','Glenn','Sally']\n",
    "print(len(friends))"
   ]
  },
  {
   "cell_type": "code",
   "execution_count": 79,
   "metadata": {},
   "outputs": [
    {
     "name": "stdout",
     "output_type": "stream",
     "text": [
      "range(0, 3)\n"
     ]
    }
   ],
   "source": [
    "friends=['Joseoh','Glenn','Sally']\n",
    "print(range(len(friends)))"
   ]
  },
  {
   "cell_type": "code",
   "execution_count": 80,
   "metadata": {},
   "outputs": [
    {
     "name": "stdout",
     "output_type": "stream",
     "text": [
      "Happy New Year Joseoh\n",
      "Happy New Year Glenn\n",
      "Happy New Year Sally\n"
     ]
    }
   ],
   "source": [
    "friends=['Joseoh','Glenn','Sally']\n",
    "for i in range(len(friends)):\n",
    "    friend=friends[i]\n",
    "    print('Happy New Year', friend)"
   ]
  },
  {
   "cell_type": "code",
   "execution_count": 81,
   "metadata": {},
   "outputs": [
    {
     "name": "stdout",
     "output_type": "stream",
     "text": [
      "6\n",
      "74\n",
      "3\n",
      "154\n",
      "25.666666666666668\n"
     ]
    }
   ],
   "source": [
    "nums=[3,41,12,9,74,15]\n",
    "print(len(nums))\n",
    "print(max(nums))\n",
    "print(min(nums))\n",
    "print(sum(nums))\n",
    "print(sum(nums)/len(nums))"
   ]
  },
  {
   "cell_type": "code",
   "execution_count": 82,
   "metadata": {},
   "outputs": [
    {
     "name": "stdout",
     "output_type": "stream",
     "text": [
      "Average 6.0\n"
     ]
    }
   ],
   "source": [
    "total=0\n",
    "count=0\n",
    "while True:\n",
    "    inp=input('Enter a number:')\n",
    "    if inp=='done':break\n",
    "    value=float(inp)\n",
    "    total =total+value\n",
    "    count=count+1\n",
    "print('Average',total/count)"
   ]
  },
  {
   "cell_type": "code",
   "execution_count": 84,
   "metadata": {},
   "outputs": [
    {
     "name": "stdout",
     "output_type": "stream",
     "text": [
      "Average 6.0\n"
     ]
    }
   ],
   "source": [
    "numlist=list()\n",
    "while True:\n",
    "    inp=input('Enter a number:')\n",
    "    if inp=='done': break\n",
    "    value=float(inp)\n",
    "    numlist.append(value)\n",
    "average=sum(numlist)/len(numlist)\n",
    "print('Average', average)\n"
   ]
  },
  {
   "cell_type": "code",
   "execution_count": 85,
   "metadata": {},
   "outputs": [
    {
     "name": "stdout",
     "output_type": "stream",
     "text": [
      "['With', 'three', 'words']\n",
      "3\n",
      "With\n"
     ]
    }
   ],
   "source": [
    "abc='With three words'\n",
    "stuff=abc.split()\n",
    "print(stuff)\n",
    "print(len(stuff))\n",
    "print(stuff[0])"
   ]
  },
  {
   "cell_type": "code",
   "execution_count": 86,
   "metadata": {},
   "outputs": [
    {
     "name": "stdout",
     "output_type": "stream",
     "text": [
      "['Arise', 'But', 'It', 'Juliet', 'Who', 'already', 'and', 'breaks', 'east', 'envious', 'fair', 'grief', 'is', 'kill', 'light', 'moon', 'pale', 'sick', 'soft', 'sun', 'the', 'through', 'what', 'window', 'with', 'yonder']\n"
     ]
    }
   ],
   "source": [
    "# fname=input('Enter file name:')\n",
    "fh=open('romeo.txt')\n",
    "lst=list()\n",
    "for line in fh:\n",
    "    for word in line.split():\n",
    "        if word not in lst: lst.append(word)\n",
    "# new_list = list(set(lst))\n",
    "lst.sort()\n",
    "print(lst)\n"
   ]
  },
  {
   "cell_type": "code",
   "execution_count": 87,
   "metadata": {},
   "outputs": [
    {
     "name": "stdout",
     "output_type": "stream",
     "text": [
      "stephen.marquard@uct.ac.za\n",
      "louis@media.berkeley.edu\n",
      "zqian@umich.edu\n",
      "rjlowe@iupui.edu\n",
      "zqian@umich.edu\n",
      "rjlowe@iupui.edu\n",
      "cwen@iupui.edu\n",
      "cwen@iupui.edu\n",
      "gsilver@umich.edu\n",
      "gsilver@umich.edu\n",
      "zqian@umich.edu\n",
      "gsilver@umich.edu\n",
      "wagnermr@iupui.edu\n",
      "zqian@umich.edu\n",
      "antranig@caret.cam.ac.uk\n",
      "gopal.ramasammycook@gmail.com\n",
      "david.horwitz@uct.ac.za\n",
      "david.horwitz@uct.ac.za\n",
      "david.horwitz@uct.ac.za\n",
      "david.horwitz@uct.ac.za\n",
      "stephen.marquard@uct.ac.za\n",
      "louis@media.berkeley.edu\n",
      "louis@media.berkeley.edu\n",
      "ray@media.berkeley.edu\n",
      "cwen@iupui.edu\n",
      "cwen@iupui.edu\n",
      "cwen@iupui.edu\n",
      "There were 27 lines in the file with From as the first word\n"
     ]
    }
   ],
   "source": [
    "fname = input(\"Enter file name: \")\n",
    "if len(fname) < 1:\n",
    "    fname = \"mbox-short.txt\"\n",
    "fh=open(fname)\n",
    "count=0\n",
    "for line in fh:\n",
    "    x=line.split()\n",
    "    if len(x)>2 and line.startswith ('From'):\n",
    "        print(x[1])\n",
    "        count=count+1\n",
    "print(\"There were\", count, \"lines in the file with From as the first word\")"
   ]
  },
  {
   "cell_type": "code",
   "execution_count": 88,
   "metadata": {},
   "outputs": [
    {
     "name": "stdout",
     "output_type": "stream",
     "text": [
      "-1\n"
     ]
    }
   ],
   "source": [
    "stuff = dict()\n",
    "print(stuff.get('candy',-1))"
   ]
  },
  {
   "cell_type": "code",
   "execution_count": 90,
   "metadata": {},
   "outputs": [
    {
     "name": "stdout",
     "output_type": "stream",
     "text": [
      "Words: ['the', 'clown', 'ran', 'after', 'the', 'car', 'and', 'the', 'car', 'ran', 'into', 'the', 'tent', 'and', 'the', 'tent', 'fell', 'down', 'on', 'the', 'clown', 'and', 'the', 'car']\n",
      "Counting...\n",
      "Counts {'the': 7, 'clown': 2, 'ran': 2, 'after': 1, 'car': 3, 'and': 3, 'into': 1, 'tent': 2, 'fell': 1, 'down': 1, 'on': 1}\n"
     ]
    }
   ],
   "source": [
    "counts={}\n",
    "# print(type(counts))\n",
    "line=input('Enter a line of text:')\n",
    "words=line.split()\n",
    "print('Words:',words)\n",
    "print('Counting...')\n",
    "for word in words:\n",
    "    counts[word]=counts.get(word,0)+1\n",
    "print('Counts', counts)"
   ]
  },
  {
   "cell_type": "code",
   "execution_count": 91,
   "metadata": {},
   "outputs": [
    {
     "name": "stdout",
     "output_type": "stream",
     "text": [
      "chuck 1\n",
      "fred 42\n",
      "jan 100\n"
     ]
    }
   ],
   "source": [
    "counts={'chuck':1,'fred':42,'jan':100}\n",
    "for key in counts:\n",
    "    print(key,counts[key])\n",
    "# counts[key] can show you the value"
   ]
  },
  {
   "cell_type": "code",
   "execution_count": 92,
   "metadata": {},
   "outputs": [
    {
     "name": "stdout",
     "output_type": "stream",
     "text": [
      "['chuck', 'fred', 'jan']\n",
      "dict_keys(['chuck', 'fred', 'jan'])\n",
      "dict_values([1, 42, 100])\n",
      "dict_items([('chuck', 1), ('fred', 42), ('jan', 100)])\n"
     ]
    }
   ],
   "source": [
    "counts={'chuck':1,'fred':42,'jan':100}\n",
    "print(list(counts))\n",
    "print(counts.keys())\n",
    "print(counts.values())\n",
    "print(counts.items())"
   ]
  },
  {
   "cell_type": "code",
   "execution_count": 93,
   "metadata": {},
   "outputs": [
    {
     "name": "stdout",
     "output_type": "stream",
     "text": [
      "chuck 1\n",
      "fred 42\n",
      "jan 100\n"
     ]
    }
   ],
   "source": [
    "counts={'chuck':1,'fred':42,'jan':100}\n",
    "for k,v in counts.items():\n",
    "    print(k,v)"
   ]
  },
  {
   "cell_type": "code",
   "execution_count": 94,
   "metadata": {},
   "outputs": [
    {
     "ename": "KeyboardInterrupt",
     "evalue": "Interrupted by user",
     "output_type": "error",
     "traceback": [
      "\u001b[1;31m---------------------------------------------------------------------------\u001b[0m",
      "\u001b[1;31mKeyboardInterrupt\u001b[0m                         Traceback (most recent call last)",
      "\u001b[1;32m<ipython-input-94-b4b2239538ed>\u001b[0m in \u001b[0;36m<module>\u001b[1;34m\u001b[0m\n\u001b[1;32m----> 1\u001b[1;33m \u001b[0mname\u001b[0m\u001b[1;33m=\u001b[0m\u001b[0minput\u001b[0m\u001b[1;33m(\u001b[0m\u001b[1;34m'Enter file:'\u001b[0m\u001b[1;33m)\u001b[0m\u001b[1;33m\u001b[0m\u001b[1;33m\u001b[0m\u001b[0m\n\u001b[0m\u001b[0;32m      2\u001b[0m \u001b[0mhandle\u001b[0m\u001b[1;33m=\u001b[0m\u001b[0mopen\u001b[0m\u001b[1;33m(\u001b[0m\u001b[0mname\u001b[0m\u001b[1;33m)\u001b[0m\u001b[1;33m\u001b[0m\u001b[1;33m\u001b[0m\u001b[0m\n\u001b[0;32m      3\u001b[0m \u001b[0mcounts\u001b[0m\u001b[1;33m=\u001b[0m\u001b[1;33m{\u001b[0m\u001b[1;33m}\u001b[0m\u001b[1;33m\u001b[0m\u001b[1;33m\u001b[0m\u001b[0m\n\u001b[0;32m      4\u001b[0m \u001b[1;32mfor\u001b[0m \u001b[0mline\u001b[0m \u001b[1;32min\u001b[0m \u001b[0mhandle\u001b[0m\u001b[1;33m:\u001b[0m\u001b[1;33m\u001b[0m\u001b[1;33m\u001b[0m\u001b[0m\n\u001b[0;32m      5\u001b[0m     \u001b[0mwords\u001b[0m\u001b[1;33m=\u001b[0m\u001b[0mline\u001b[0m\u001b[1;33m.\u001b[0m\u001b[0msplit\u001b[0m\u001b[1;33m(\u001b[0m\u001b[1;33m)\u001b[0m\u001b[1;33m\u001b[0m\u001b[1;33m\u001b[0m\u001b[0m\n",
      "\u001b[1;32mC:\\Program Files\\Anaconda3\\lib\\site-packages\\ipykernel\\kernelbase.py\u001b[0m in \u001b[0;36mraw_input\u001b[1;34m(self, prompt)\u001b[0m\n\u001b[0;32m    858\u001b[0m                 \u001b[1;34m\"raw_input was called, but this frontend does not support input requests.\"\u001b[0m\u001b[1;33m\u001b[0m\u001b[1;33m\u001b[0m\u001b[0m\n\u001b[0;32m    859\u001b[0m             )\n\u001b[1;32m--> 860\u001b[1;33m         return self._input_request(str(prompt),\n\u001b[0m\u001b[0;32m    861\u001b[0m             \u001b[0mself\u001b[0m\u001b[1;33m.\u001b[0m\u001b[0m_parent_ident\u001b[0m\u001b[1;33m,\u001b[0m\u001b[1;33m\u001b[0m\u001b[1;33m\u001b[0m\u001b[0m\n\u001b[0;32m    862\u001b[0m             \u001b[0mself\u001b[0m\u001b[1;33m.\u001b[0m\u001b[0m_parent_header\u001b[0m\u001b[1;33m,\u001b[0m\u001b[1;33m\u001b[0m\u001b[1;33m\u001b[0m\u001b[0m\n",
      "\u001b[1;32mC:\\Program Files\\Anaconda3\\lib\\site-packages\\ipykernel\\kernelbase.py\u001b[0m in \u001b[0;36m_input_request\u001b[1;34m(self, prompt, ident, parent, password)\u001b[0m\n\u001b[0;32m    902\u001b[0m             \u001b[1;32mexcept\u001b[0m \u001b[0mKeyboardInterrupt\u001b[0m\u001b[1;33m:\u001b[0m\u001b[1;33m\u001b[0m\u001b[1;33m\u001b[0m\u001b[0m\n\u001b[0;32m    903\u001b[0m                 \u001b[1;31m# re-raise KeyboardInterrupt, to truncate traceback\u001b[0m\u001b[1;33m\u001b[0m\u001b[1;33m\u001b[0m\u001b[1;33m\u001b[0m\u001b[0m\n\u001b[1;32m--> 904\u001b[1;33m                 \u001b[1;32mraise\u001b[0m \u001b[0mKeyboardInterrupt\u001b[0m\u001b[1;33m(\u001b[0m\u001b[1;34m\"Interrupted by user\"\u001b[0m\u001b[1;33m)\u001b[0m \u001b[1;32mfrom\u001b[0m \u001b[1;32mNone\u001b[0m\u001b[1;33m\u001b[0m\u001b[1;33m\u001b[0m\u001b[0m\n\u001b[0m\u001b[0;32m    905\u001b[0m             \u001b[1;32mexcept\u001b[0m \u001b[0mException\u001b[0m \u001b[1;32mas\u001b[0m \u001b[0me\u001b[0m\u001b[1;33m:\u001b[0m\u001b[1;33m\u001b[0m\u001b[1;33m\u001b[0m\u001b[0m\n\u001b[0;32m    906\u001b[0m                 \u001b[0mself\u001b[0m\u001b[1;33m.\u001b[0m\u001b[0mlog\u001b[0m\u001b[1;33m.\u001b[0m\u001b[0mwarning\u001b[0m\u001b[1;33m(\u001b[0m\u001b[1;34m\"Invalid Message:\"\u001b[0m\u001b[1;33m,\u001b[0m \u001b[0mexc_info\u001b[0m\u001b[1;33m=\u001b[0m\u001b[1;32mTrue\u001b[0m\u001b[1;33m)\u001b[0m\u001b[1;33m\u001b[0m\u001b[1;33m\u001b[0m\u001b[0m\n",
      "\u001b[1;31mKeyboardInterrupt\u001b[0m: Interrupted by user"
     ]
    }
   ],
   "source": [
    "name=input('Enter file:')\n",
    "handle=open(name)\n",
    "counts={}\n",
    "for line in handle:\n",
    "    words=line.split()\n",
    "    for word in words:\n",
    "        counts[word]=counts.get(word,0)+1\n",
    "bigcount=None\n",
    "bigword=None\n",
    "for word, count in counts.items():\n",
    "    if bigcount is None or count>bigcount:\n",
    "        bigword=word\n",
    "        bigcount=count\n",
    "print(bigword,bigcount)"
   ]
  },
  {
   "cell_type": "code",
   "execution_count": 1,
   "metadata": {},
   "outputs": [
    {
     "name": "stdout",
     "output_type": "stream",
     "text": [
      "cwen@iupui.edu 5\n"
     ]
    }
   ],
   "source": [
    "name = input(\"Enter file:\")\n",
    "if len(name) < 1:\n",
    "    name = \"mbox-short.txt\"\n",
    "handle = open(name)\n",
    "counts={}\n",
    "z=list()\n",
    "for line in handle:\n",
    "    x=line.split()\n",
    "    if len(x)>2 and line.startswith('From'):\n",
    "        y=x[1]\n",
    "        # print(y)\n",
    "        z.append(y)\n",
    "for add in z:\n",
    "    counts[add]=counts.get(add,0)+1  \n",
    "# print(z)        \n",
    "bigcount=None\n",
    "bigword=None\n",
    "for add, count in counts.items():\n",
    "    if bigcount is None or count>bigcount:\n",
    "        bigword=add\n",
    "        bigcount=count\n",
    "print(bigword,bigcount)\n",
    "\n",
    "\n"
   ]
  },
  {
   "cell_type": "code",
   "execution_count": 2,
   "metadata": {},
   "outputs": [
    {
     "name": "stdout",
     "output_type": "stream",
     "text": [
      "cwen@iupui.edu 5\n"
     ]
    }
   ],
   "source": [
    "handle = open(\"mbox-short.txt\")\n",
    "counts=dict()\n",
    "for line in handle:\n",
    "    x=line.split()\n",
    "    if len(x)>2 and line.startswith('From'):\n",
    "         counts[x[1]]=counts.get(x[1],0)+1            \n",
    "bigcount=None\n",
    "bigword=None\n",
    "for add, count in counts.items():\n",
    "    if bigcount is None or count>bigcount:\n",
    "        bigword=add\n",
    "        bigcount=count\n",
    "print(bigword,bigcount)\n"
   ]
  },
  {
   "cell_type": "code",
   "execution_count": 3,
   "metadata": {},
   "outputs": [
    {
     "name": "stdout",
     "output_type": "stream",
     "text": [
      "bigword cwen@iupui.edu bigcount 5\n"
     ]
    }
   ],
   "source": [
    "handle = open(\"mbox-short.txt\")\n",
    "list_email = list()\n",
    "list_occurence = list()\n",
    "for line in handle:\n",
    "    x=line.split()\n",
    "    if len(x)>2 and line.startswith('From'):\n",
    "        if x[1] not in list_email: \n",
    "            list_email.append(x[1])\n",
    "            list_occurence.append(1)\n",
    "        else:\n",
    "            list_occurence[list_email.index(x[1])] += 1\n",
    "print(f'bigword {list_email[list_occurence.index(max(list_occurence))]}',f'bigcount {max(list_occurence)}')\n"
   ]
  },
  {
   "cell_type": "code",
   "execution_count": 4,
   "metadata": {},
   "outputs": [
    {
     "data": {
      "text/plain": [
       "1"
      ]
     },
     "execution_count": 4,
     "metadata": {},
     "output_type": "execute_result"
    }
   ],
   "source": [
    "list = [1,2,2]\n",
    "list.index(2)\n",
    "# max(list)"
   ]
  },
  {
   "cell_type": "code",
   "execution_count": 5,
   "metadata": {},
   "outputs": [
    {
     "name": "stdout",
     "output_type": "stream",
     "text": [
      "fred\n"
     ]
    }
   ],
   "source": [
    "(x,y)=(4,'fred')\n",
    "print(y)"
   ]
  },
  {
   "cell_type": "code",
   "execution_count": 6,
   "metadata": {},
   "outputs": [
    {
     "name": "stdout",
     "output_type": "stream",
     "text": [
      "csev 2\n",
      "cwen 4\n",
      "dict_items([('csev', 2), ('cwen', 4)])\n"
     ]
    }
   ],
   "source": [
    "d=dict()\n",
    "d['csev']=2\n",
    "d['cwen']=4\n",
    "for (k,v) in d.items():\n",
    "    print(k,v)\n",
    "tups=d.items()\n",
    "print(tups)"
   ]
  },
  {
   "cell_type": "code",
   "execution_count": 7,
   "metadata": {},
   "outputs": [
    {
     "name": "stdout",
     "output_type": "stream",
     "text": [
      "dict_items([('a', 10), ('b', 1), ('c', 22)])\n"
     ]
    },
    {
     "data": {
      "text/plain": [
       "[('a', 10), ('b', 1), ('c', 22)]"
      ]
     },
     "execution_count": 7,
     "metadata": {},
     "output_type": "execute_result"
    }
   ],
   "source": [
    "d={'a':10,'b':1,'c':22}\n",
    "print(d.items())\n",
    "sorted(d.items())\n",
    "# value can be more than once, key cannot be \n",
    "# sorted in key order"
   ]
  },
  {
   "cell_type": "code",
   "execution_count": 1,
   "metadata": {},
   "outputs": [
    {
     "name": "stdout",
     "output_type": "stream",
     "text": [
      "[(10, 'a'), (1, 'b'), (22, 'c')]\n",
      "[(22, 'c'), (10, 'a'), (1, 'b')]\n"
     ]
    },
    {
     "data": {
      "text/plain": [
       "list"
      ]
     },
     "execution_count": 1,
     "metadata": {},
     "output_type": "execute_result"
    }
   ],
   "source": [
    "c={'a':10,'b':1,'c':22}\n",
    "tmp=list()\n",
    "for k,v in c.items():\n",
    "    tmp.append((v,k))\n",
    "print(tmp)\n",
    "tmp=sorted(tmp,reverse=True)\n",
    "print(tmp)\n",
    "list"
   ]
  },
  {
   "cell_type": "code",
   "execution_count": 21,
   "metadata": {},
   "outputs": [
    {
     "data": {
      "text/plain": [
       "[1, 2, 2]"
      ]
     },
     "execution_count": 21,
     "metadata": {},
     "output_type": "execute_result"
    }
   ],
   "source": [
    "list"
   ]
  },
  {
   "cell_type": "code",
   "execution_count": 2,
   "metadata": {},
   "outputs": [
    {
     "name": "stdout",
     "output_type": "stream",
     "text": [
      "the 3\n",
      "is 3\n",
      "and 3\n",
      "sun 2\n",
      "yonder 1\n",
      "with 1\n",
      "window 1\n",
      "what 1\n",
      "through 1\n",
      "soft 1\n"
     ]
    }
   ],
   "source": [
    "fhand=open('romeo.txt')\n",
    "counts=dict()\n",
    "for line in fhand:\n",
    "    words=line.split()\n",
    "    for word in words:\n",
    "        counts[word]=counts.get(word,0)+1\n",
    "lst=list()\n",
    "for key, val in counts.items():\n",
    "    newtup=(val,key)\n",
    "    lst.append(newtup)\n",
    "lst=sorted(lst,reverse=True)\n",
    "for val, key in lst[:10]:\n",
    "    print(key,val)"
   ]
  },
  {
   "cell_type": "code",
   "execution_count": 18,
   "metadata": {},
   "outputs": [
    {
     "name": "stdout",
     "output_type": "stream",
     "text": [
      "[(1, 'b'), (10, 'a'), (22, 'c')]\n"
     ]
    }
   ],
   "source": [
    "c={'a':10,'b':1,'c':22}\n",
    "print(sorted([(v,k) for k,v in c.items()]))"
   ]
  },
  {
   "cell_type": "code",
   "execution_count": 12,
   "metadata": {},
   "outputs": [
    {
     "name": "stdout",
     "output_type": "stream",
     "text": [
      "4\n"
     ]
    }
   ],
   "source": [
    "x , y = 3, 4\n",
    "print(y)"
   ]
  },
  {
   "cell_type": "code",
   "execution_count": 13,
   "metadata": {},
   "outputs": [
    {
     "name": "stdout",
     "output_type": "stream",
     "text": [
      "dict_items([('chuck', 1), ('fred', 42), ('jan', 100)])\n"
     ]
    }
   ],
   "source": [
    "x = { 'chuck' : 1 , 'fred' : 42, 'jan': 100}\n",
    "y = x.items()\n",
    "print(y)"
   ]
  },
  {
   "cell_type": "code",
   "execution_count": 14,
   "metadata": {},
   "outputs": [
    {
     "name": "stdout",
     "output_type": "stream",
     "text": [
      "Wed\n"
     ]
    }
   ],
   "source": [
    "days = ('Mon', 'Tue', 'Wed', 'Thu', 'Fri', 'Sat', 'Sun')\n",
    "print(days[2])"
   ]
  },
  {
   "cell_type": "code",
   "execution_count": 15,
   "metadata": {},
   "outputs": [
    {
     "name": "stdout",
     "output_type": "stream",
     "text": [
      "04 3\n",
      "06 1\n",
      "07 1\n",
      "09 2\n",
      "10 3\n",
      "11 6\n",
      "14 1\n",
      "15 2\n",
      "16 4\n",
      "17 2\n",
      "18 1\n",
      "19 1\n"
     ]
    }
   ],
   "source": [
    "name = input(\"Enter file:\")\n",
    "if len(name) < 1:\n",
    "    name = \"mbox-short.txt\"\n",
    "handle = open(name)\n",
    "counts=dict()\n",
    "for line in handle:\n",
    "    x=line.split()\n",
    "    if len(x)>2 and line.startswith ('From'):\n",
    "        y=x[5][:2]\n",
    "        counts[y]=counts.get(y,0)+1\n",
    "#print(counts)\n",
    "# lst=list()\n",
    "# for key, val in counts.items():\n",
    "#     newtup=(key, val)\n",
    "#     lst.append(newtup)\n",
    "# lst=sorted()\n",
    "z=sorted(counts.items())\n",
    "for k,v in z:\n",
    "    print(k,v)\n",
    " \n",
    "# for key in sorted(list(counts)):\n",
    "#     print(key, counts[key])"
   ]
  },
  {
   "cell_type": "code",
   "execution_count": null,
   "metadata": {},
   "outputs": [],
   "source": [
    "hand=open('mbox-short.txt')\n",
    "for line in hand:\n",
    "    line=line.rstrip()\n",
    "    if line.find('From:')>=0:\n",
    "        print(line)"
   ]
  },
  {
   "cell_type": "code",
   "execution_count": null,
   "metadata": {},
   "outputs": [],
   "source": [
    "import re\n",
    "hand=open('mbox-short.txt')\n",
    "for line in hand:\n",
    "    line=line.rstrip()\n",
    "    if re.search('From:', line):\n",
    "        print(line)"
   ]
  },
  {
   "cell_type": "code",
   "execution_count": null,
   "metadata": {},
   "outputs": [],
   "source": [
    "hand=open('mbox-short.txt')\n",
    "for line in hand:\n",
    "    line=line.rstrip()\n",
    "    if line.startswith('From:'):\n",
    "        print(line)"
   ]
  },
  {
   "cell_type": "code",
   "execution_count": null,
   "metadata": {},
   "outputs": [],
   "source": [
    "# import re\n",
    "hand=open('mbox-short.txt')\n",
    "for line in hand:\n",
    "    line=line.rstrip()\n",
    "    if re.search('^From:', line):\n",
    "        # ^ means F is the first letter of one line\n",
    "        print(line)"
   ]
  },
  {
   "cell_type": "code",
   "execution_count": null,
   "metadata": {},
   "outputs": [],
   "source": [
    "hand=open('mbox-short.txt')\n",
    "for line in hand:\n",
    "    line=line.rstrip()\n",
    "    if re.search('^X.*:', line):\n",
    "        # '^' means X is the first letter of one line, \n",
    "        # '.' means any character, \n",
    "        # '*' means zero or more times.\n",
    "        print(line)"
   ]
  },
  {
   "cell_type": "code",
   "execution_count": null,
   "metadata": {},
   "outputs": [],
   "source": [
    "hand=open('mbox-short.txt')\n",
    "for line in hand:\n",
    "    line=line.rstrip()\n",
    "    if re.search('^X-\\S+:', line):\n",
    "        # '^' means 'X-' match the start of the line, \n",
    "        # '\\S' means match any non-whitespace character, \n",
    "        # '+' means one or more times, >=1\n",
    "        print(line)"
   ]
  },
  {
   "cell_type": "code",
   "execution_count": 7,
   "metadata": {},
   "outputs": [
    {
     "name": "stdout",
     "output_type": "stream",
     "text": [
      "['2', '19', '42']\n"
     ]
    }
   ],
   "source": [
    "import re\n",
    "x='My 2 favourite numbers are 19 and 42'\n",
    "y=re.findall('[0-9]+',x)\n",
    "print(y)\n",
    "# the output is a string, not a number"
   ]
  },
  {
   "cell_type": "code",
   "execution_count": 8,
   "metadata": {},
   "outputs": [
    {
     "name": "stdout",
     "output_type": "stream",
     "text": [
      "[]\n"
     ]
    }
   ],
   "source": [
    "import re\n",
    "x='My 2 favourite numbers are 19 and 42'\n",
    "y=re.findall('[AEIOU]+',x)\n",
    "print(y)"
   ]
  },
  {
   "cell_type": "code",
   "execution_count": 9,
   "metadata": {},
   "outputs": [
    {
     "name": "stdout",
     "output_type": "stream",
     "text": [
      "['From: Using the : character']\n"
     ]
    }
   ],
   "source": [
    "import re\n",
    "x='From: Using the : character'\n",
    "y= re.findall('^F.+:',x)\n",
    "print (y)\n",
    "# '^F.+:' means greedy matching, \".+\" pushy"
   ]
  },
  {
   "cell_type": "code",
   "execution_count": 10,
   "metadata": {},
   "outputs": [
    {
     "name": "stdout",
     "output_type": "stream",
     "text": [
      "['From:']\n"
     ]
    }
   ],
   "source": [
    "import re\n",
    "x='From: Using the : character'\n",
    "y= re.findall('^F.+?:',x)\n",
    "print (y)\n",
    "# '^F.+?:' means non-greedy matching, \"?\" non-pushy"
   ]
  },
  {
   "cell_type": "code",
   "execution_count": 11,
   "metadata": {},
   "outputs": [
    {
     "name": "stdout",
     "output_type": "stream",
     "text": [
      "['stephen.marquard@uct.ac.za']\n"
     ]
    }
   ],
   "source": [
    "x='From stephen.marquard@uct.ac.za Sat Jan  5 09:14:16 2008'\n",
    "y=re.findall('\\S+@\\S+',x)\n",
    "print(y)"
   ]
  },
  {
   "cell_type": "code",
   "execution_count": 13,
   "metadata": {},
   "outputs": [
    {
     "name": "stdout",
     "output_type": "stream",
     "text": [
      "['stephen.marquard@uct.ac.za']\n"
     ]
    }
   ],
   "source": [
    "x='From stephen.marquard@uct.ac.za Sat Jan  5 09:14:16 2008'\n",
    "y=re.findall('^From (\\S+@\\S+)',x)\n",
    "print(y)\n",
    "# extract after a white space \"From \", add one (), the part to extract is in the ()"
   ]
  },
  {
   "cell_type": "code",
   "execution_count": 14,
   "metadata": {},
   "outputs": [
    {
     "name": "stdout",
     "output_type": "stream",
     "text": [
      "['uct.ac.za']\n"
     ]
    }
   ],
   "source": [
    "x='From stephen.marquard@uct.ac.za Sat Jan  5 09:14:16 2008'\n",
    "y=re.findall('@([^ ]*)',x)\n",
    "print(y)\n",
    "# '[^ ] 方括号内是single character，first thing is the '^'\n",
    "# '[^ ]*' it is a single non-blank character, zero or more times"
   ]
  },
  {
   "cell_type": "code",
   "execution_count": 16,
   "metadata": {},
   "outputs": [
    {
     "name": "stdout",
     "output_type": "stream",
     "text": [
      "['uct.ac.za']\n"
     ]
    }
   ],
   "source": [
    "x='From stephen.marquard@uct.ac.za Sat Jan  5 09:14:16 2008'\n",
    "y=re.findall('From .*@([^ ]*)',x)\n",
    "print(y)\n",
    "# 'From .*@([^ ]*)' means starting at the beginning of the line, look for the string \"From\""
   ]
  },
  {
   "cell_type": "code",
   "execution_count": 17,
   "metadata": {},
   "outputs": [
    {
     "name": "stdout",
     "output_type": "stream",
     "text": [
      "Maximum 0.9907\n"
     ]
    }
   ],
   "source": [
    "import re\n",
    "hand=open('mbox-short.txt')\n",
    "numlist=list()\n",
    "for line in hand:\n",
    "    line=line.rstrip()\n",
    "    stuff=re.findall('^X-DSPAM-Confidence: ([0-9.]+)', line)\n",
    "    if len(stuff) != 1: continue\n",
    "    num =float(stuff[0])\n",
    "    numlist.append(num)\n",
    "print('Maximum',max(numlist))"
   ]
  },
  {
   "cell_type": "code",
   "execution_count": 18,
   "metadata": {},
   "outputs": [
    {
     "name": "stdout",
     "output_type": "stream",
     "text": [
      "['$10.00']\n"
     ]
    }
   ],
   "source": [
    "import re\n",
    "x='We just received $10.00 for cookies.'\n",
    "y= re.findall('\\$[0-9.]+', x)\n",
    "print (y)\n",
    "# '\\' means you want a special regular expression character to just behave normally you prefix it with '\\'\n",
    "# \"$\" dollar sign is a special sign, matches the end of the line."
   ]
  },
  {
   "cell_type": "code",
   "execution_count": 19,
   "metadata": {},
   "outputs": [
    {
     "name": "stdout",
     "output_type": "stream",
     "text": [
      "['uct.ac.za']\n"
     ]
    }
   ],
   "source": [
    "x='From stephen.marquard@uct.ac.za Sat Jan  5 09:14:16 2008'\n",
    "y=re.findall('@(\\S+)',x)\n",
    "print(y)"
   ]
  },
  {
   "cell_type": "code",
   "execution_count": 21,
   "metadata": {},
   "outputs": [
    {
     "name": "stdout",
     "output_type": "stream",
     "text": [
      "['e', 'j', 'u', 's', 't', 'r', 'e', 'c', 'e', 'i', 'v', 'e', 'd', '1', '0', '3', '6', 'f', 'o', 'r', 'c', 'o', 'o', 'k', 'i', 'e', 's']\n"
     ]
    }
   ],
   "source": [
    "import re\n",
    "x='We just received $10.36 for cookies.'\n",
    "y= re.findall('[a-z0-9]', x)\n",
    "print (y)\n",
    "# '[a-z0-9]' matches a lowercase letter or a digit"
   ]
  },
  {
   "cell_type": "code",
   "execution_count": 22,
   "metadata": {},
   "outputs": [
    {
     "name": "stdout",
     "output_type": "stream",
     "text": [
      "['From: Using the :']\n"
     ]
    }
   ],
   "source": [
    "x = 'From: Using the : character'\n",
    "y = re.findall('^F.+:', x)\n",
    "print(y)"
   ]
  },
  {
   "cell_type": "code",
   "execution_count": 23,
   "metadata": {},
   "outputs": [
    {
     "name": "stdout",
     "output_type": "stream",
     "text": [
      "['stephen.marquard@uct.ac.za']\n"
     ]
    }
   ],
   "source": [
    "x='From stephen.marquard@uct.ac.za Sat Jan  5 09:14:16 2008'\n",
    "y=re.findall('\\S+?@\\S+',x)\n",
    "print(y)"
   ]
  },
  {
   "cell_type": "code",
   "execution_count": 38,
   "metadata": {},
   "outputs": [
    {
     "data": {
      "text/plain": [
       "445833"
      ]
     },
     "execution_count": 38,
     "metadata": {},
     "output_type": "execute_result"
    }
   ],
   "source": [
    "import re\n",
    "handle=open('sample.txt')\n",
    "sum([int(num) for num in re.findall('[0-9]+',open('sample.txt').read())])\n",
    "# y=list()\n",
    "# for i in x:\n",
    "#     num=float(i)   "
   ]
  },
  {
   "cell_type": "code",
   "execution_count": 48,
   "metadata": {},
   "outputs": [
    {
     "name": "stdout",
     "output_type": "stream",
     "text": [
      "442561\n"
     ]
    }
   ],
   "source": [
    "import re\n",
    "handle=open('assignment.txt')\n",
    "x= re.findall('[0-9]+',handle.read())\n",
    "# print(x)\n",
    "y=list()\n",
    "for i in x:\n",
    "    num=int(i) \n",
    "    y.append(num)\n",
    "print(sum(y))"
   ]
  },
  {
   "cell_type": "code",
   "execution_count": 15,
   "metadata": {},
   "outputs": [
    {
     "name": "stdout",
     "output_type": "stream",
     "text": [
      "HTTP/1.1 200 OK\n",
      "Date: Sun, 01 May 2022 04:19:47 GMT\n",
      "Server: Apache/2.4.18 (Ubuntu)\n",
      "Last-Modified: Sat, 13 May 2017 11:22:22 GMT\n",
      "ETag: \"a7-54f6609245537\"\n",
      "Accept-Ranges: bytes\n",
      "Content-Length: 167\n",
      "Cache-Control: max-age=0, no-cache, no-store, must-revalidate\n",
      "Pragma: no-cache\n",
      "Expires: Wed, 11 Jan 1984 05:00:00 GMT\n",
      "Connection: close\n",
      "Content-Type: text/plain\n",
      "\n",
      "But soft what light through yonder window breaks\n",
      "It is the east and Juliet is the sun\n",
      "Arise fair sun and kill the envious moon\n",
      "Who is already s\n",
      "ick and pale with grief\n",
      "\n"
     ]
    }
   ],
   "source": [
    "import socket\n",
    "\n",
    "mysock=socket.socket(socket.AF_INET, socket.SOCK_STREAM)\n",
    "mysock.connect(('data.pr4e.org', 80))\n",
    "cmd='GET http://data.pr4e.org/romeo.txt HTTP/1.0\\r\\n\\r\\n'.encode()\n",
    "mysock.send(cmd)\n",
    "\n",
    "while True:\n",
    "    data=mysock.recv(512)\n",
    "    if (len(data)<1):  break\n",
    "    print(data.decode())\n",
    "mysock.close()"
   ]
  },
  {
   "cell_type": "code",
   "execution_count": 13,
   "metadata": {},
   "outputs": [
    {
     "name": "stdout",
     "output_type": "stream",
     "text": [
      "HTTP/1.1 404 Not Found\n",
      "Date: Sun, 01 May 2022 04:01:59 GMT\n",
      "Server: Apache/2.4.18 (Ubuntu)\n",
      "Content-Length: 292\n",
      "Connection: close\n",
      "Content-Type: text/html; charset=iso-8859-1\n",
      "\n",
      "<!DOCTYPE HTML PUBLIC \"-//IETF//DTD HTML 2.0//EN\">\n",
      "<html><head>\n",
      "<title>404 Not Found</title>\n",
      "</head><body>\n",
      "<h1>Not Found</h1>\n",
      "<p>The requested URL /short-intro.txt was not found on this server.</p>\n",
      "<hr>\n",
      "<address>Apache/2.4.18 (Ubuntu) Server at data.pr4e.org Port 80</address>\n",
      "</body></html>\n"
     ]
    }
   ],
   "source": [
    "import socket\n",
    "\n",
    "mysock = socket.socket(socket.AF_INET, socket.SOCK_STREAM) # \"mysock\" is like a file handle\n",
    "mysock.connect(('data.pr4e.org', 80)) # \"data.pr4e.org\" is Host, '80' is Port, this line is to connect the socket.\n",
    "cmd = 'GET http://data.pr4e.org/short-intro.txt HTTP/1.0\\r\\n\\r\\n'.encode()\n",
    "mysock.send(cmd)\n",
    "\n",
    "while True:\n",
    "    data = mysock.recv(512) # receive up to 512 characters a time.\n",
    "    if len(data) < 1: # if the line has less than one character means it's end of the file.\n",
    "        break\n",
    "    print(data.decode(),end='')\n",
    "\n",
    "mysock.close()"
   ]
  },
  {
   "cell_type": "code",
   "execution_count": null,
   "metadata": {},
   "outputs": [],
   "source": [
    "# 1. open link\n",
    "# 2. F12\n",
    "# 3. Ctrl+R\n",
    "# 4. click Name"
   ]
  },
  {
   "cell_type": "code",
   "execution_count": 12,
   "metadata": {},
   "outputs": [
    {
     "name": "stdout",
     "output_type": "stream",
     "text": [
      "72\n",
      "101\n",
      "10\n"
     ]
    }
   ],
   "source": [
    "print(ord('H'))\n",
    "print(ord('e'))\n",
    "print(ord('\\n')) # '\\n' means new line\n",
    "# ASCII character"
   ]
  },
  {
   "cell_type": "code",
   "execution_count": null,
   "metadata": {},
   "outputs": [],
   "source": [
    "# UTF8, UTF16, UTF32\n",
    "# Unicode in Python 3"
   ]
  },
  {
   "cell_type": "code",
   "execution_count": null,
   "metadata": {},
   "outputs": [],
   "source": [
    "while True:\n",
    "    data=mysock.recv(512) # Type(data) = bytes\n",
    "    if(len(data)<1):\n",
    "        break\n",
    "    mystring=data.decode() # assumes UTF8 or ASCII, type(mystring)=Unicode, decode change from bytes to Unicode\n",
    "    print(mystring)"
   ]
  },
  {
   "cell_type": "code",
   "execution_count": 15,
   "metadata": {},
   "outputs": [
    {
     "name": "stdout",
     "output_type": "stream",
     "text": [
      "But soft what light through yonder window breaks\n",
      "It is the east and Juliet is the sun\n",
      "Arise fair sun and kill the envious moon\n",
      "Who is already sick and pale with grief\n"
     ]
    }
   ],
   "source": [
    "import urllib.request, urllib.parse, urllib.error\n",
    "\n",
    "fhand=urllib.request.urlopen('http://data.pr4e.org/romeo.txt') # urlopen can take away all the headers\n",
    "for line in fhand:\n",
    "    print(line.decode().strip())"
   ]
  },
  {
   "cell_type": "code",
   "execution_count": 16,
   "metadata": {},
   "outputs": [
    {
     "name": "stdout",
     "output_type": "stream",
     "text": [
      "{'But': 1, 'soft': 1, 'what': 1, 'light': 1, 'through': 1, 'yonder': 1, 'window': 1, 'breaks': 1, 'It': 1, 'is': 3, 'the': 3, 'east': 1, 'and': 3, 'Juliet': 1, 'sun': 2, 'Arise': 1, 'fair': 1, 'kill': 1, 'envious': 1, 'moon': 1, 'Who': 1, 'already': 1, 'sick': 1, 'pale': 1, 'with': 1, 'grief': 1}\n"
     ]
    }
   ],
   "source": [
    "import urllib.request, urllib.parse, urllib.error\n",
    "\n",
    "fhand=urllib.request.urlopen('http://data.pr4e.org/romeo.txt')\n",
    "\n",
    "counts=dict()\n",
    "for line in fhand:\n",
    "    words=line.decode().split()\n",
    "    for word in words:\n",
    "        counts[word]=counts.get(word,0)+1\n",
    "print(counts)"
   ]
  },
  {
   "cell_type": "code",
   "execution_count": null,
   "metadata": {},
   "outputs": [],
   "source": [
    "import urllib.request, urllib.parse, urllib.error\n",
    "from bs4 import BeautifulSoup # BeautifulSoup is a easy way tro parsing the HTML page.\n",
    "\n",
    "url=input ('Enter - ') # http://wwww.dr-chuck.com/page1.htm\n",
    "html=urllib.request.urlopen(url).read\n",
    "soup=BeautifulSoup(html,'html.parser')\n",
    "\n",
    "#Retrieve all of the anchor tag\n",
    "tags=soup('a')\n",
    "for tag in tags:\n",
    "    print(tag.get('href',None))"
   ]
  },
  {
   "cell_type": "code",
   "execution_count": 18,
   "metadata": {},
   "outputs": [
    {
     "ename": "ModuleNotFoundError",
     "evalue": "No module named 'openpyxl'",
     "output_type": "error",
     "traceback": [
      "\u001b[1;31m---------------------------------------------------------------------------\u001b[0m",
      "\u001b[1;31mModuleNotFoundError\u001b[0m                       Traceback (most recent call last)",
      "\u001b[1;32mc:\\Users\\xukat\\Desktop\\PY4E\\test.ipynb Cell 82'\u001b[0m in \u001b[0;36m<cell line: 1>\u001b[1;34m()\u001b[0m\n\u001b[1;32m----> <a href='vscode-notebook-cell:/c%3A/Users/xukat/Desktop/PY4E/test.ipynb#ch0000081?line=0'>1</a>\u001b[0m \u001b[39mfrom\u001b[39;00m \u001b[39mopenpyxl\u001b[39;00m \u001b[39mimport\u001b[39;00m load_workbook\n\u001b[0;32m      <a href='vscode-notebook-cell:/c%3A/Users/xukat/Desktop/PY4E/test.ipynb#ch0000081?line=2'>3</a>\u001b[0m my_wb \u001b[39m=\u001b[39m load_workbook(\u001b[39m'\u001b[39m\u001b[39m20220331_RBCC_Sample_DNI_Overview.xlsx\u001b[39m\u001b[39m'\u001b[39m, data_only\u001b[39m=\u001b[39m\u001b[39mTrue\u001b[39;00m)\n\u001b[0;32m      <a href='vscode-notebook-cell:/c%3A/Users/xukat/Desktop/PY4E/test.ipynb#ch0000081?line=3'>4</a>\u001b[0m my_ws \u001b[39m=\u001b[39m my_wb[\u001b[39m'\u001b[39m\u001b[39mActual Sample Sales\u001b[39m\u001b[39m'\u001b[39m]\n",
      "\u001b[1;31mModuleNotFoundError\u001b[0m: No module named 'openpyxl'"
     ]
    }
   ],
   "source": [
    "from openpyxl import load_workbook\n",
    "\n",
    "my_wb = load_workbook('20220331_RBCC_Sample_DNI_Overview.xlsx', data_only=True)\n",
    "my_ws = my_wb['Actual Sample Sales']\n",
    "\n",
    "for row in range(2, 8):\n",
    "    for col in range(2, 13):\n",
    "        value = my_ws.cell(row=row, column=col).value\n",
    "        month = my_ws.cell(row=1, column=col).value + '01'\n",
    "        month = '-'.join((month[:4], month[4:6], month[6:8]))\n",
    "        copt = my_ws.cell(row=row, column=1).value\n",
    "        print(value, '\\t', month, '\\t', copt)\n",
    "my_wb.save('1.xlsx')"
   ]
  },
  {
   "cell_type": "code",
   "execution_count": 19,
   "metadata": {},
   "outputs": [
    {
     "name": "stdout",
     "output_type": "stream",
     "text": [
      "1\n",
      "2\n"
     ]
    }
   ],
   "source": [
    "from datetime import datetime\n",
    "\n",
    "# print(str(datetime(2012,1,1))[:10])\n"
   ]
  },
  {
   "cell_type": "code",
   "execution_count": null,
   "metadata": {},
   "outputs": [],
   "source": [
    "from openpyxl import load_workbook\n",
    "\n",
    "my_wb = load_workbook('RBCC_Samos_20220331 - Update.xlsx', data_only=True)\n",
    "my_ws = my_wb['Detail Update 0426']\n",
    "\n",
    "for row in range(2, 3093):\n",
    "    # 19\n",
    "    try:\n",
    "        #19\n",
    "        month = str(my_ws.cell(row=row, column=19).value)\n",
    "        month = '-'.join((month[:4], month[4:6], month[6:8]))\n",
    "        my_ws.cell(row=row, column=19, value=month)\n",
    "        #23\n",
    "        month = str(my_ws.cell(row=row, column=24).value).replace('.', '') + '01'\n",
    "        month = '-'.join((month[:4], month[4:6], month[6:8]))\n",
    "        my_ws.cell(row=row, column=23, value=month)\n",
    "        #24\n",
    "        month = str(my_ws.cell(row=row, column=23).value).replace('.', '') + '01'\n",
    "        month = '-'.join((month[:4], month[4:6], month[6:8]))\n",
    "        my_ws.cell(row=row, column=24, value=month)\n",
    "    except Exception as e:\n",
    "        print(f'error in row {row}, error is {e}')\n",
    "    # print(value, '\\t', month, '\\t', copt)\n",
    "\n",
    "my_wb.save('1.xlsx')"
   ]
  },
  {
   "cell_type": "code",
   "execution_count": 28,
   "metadata": {},
   "outputs": [
    {
     "name": "stdout",
     "output_type": "stream",
     "text": [
      "2685\n"
     ]
    }
   ],
   "source": [
    "from urllib.request import urlopen\n",
    "from bs4 import BeautifulSoup\n",
    "import ssl\n",
    "\n",
    "# Ignore SSL certificate errors\n",
    "ctx=ssl.create_default_context()\n",
    "ctx.check_hostname=False\n",
    "ctx.verify_mode=ssl.CERT_NONE\n",
    "\n",
    "# # url=input ('Enter - ')\n",
    "url = 'http://py4e-data.dr-chuck.net/comments_1530195.html'\n",
    "html=urlopen(url,context=ctx).read()\n",
    "soup=BeautifulSoup(html,'html.parser')\n",
    "\n",
    "# Retrieve all of the anchor tags, anchor tag is <a to </a, view page source\n",
    "y=list()\n",
    "tags = soup('span')\n",
    "for tag in tags:\n",
    "    y.append(int(tag.contents[0]))\n",
    "print(sum(y))\n",
    "\n",
    "# print(sum([int(tag.contents[0]) for tag in tags]))\n",
    "\n",
    "# for tag in tags:\n",
    "#     # Look at the parts of a tag\n",
    "#     # print('TAG:', tag)\n",
    "#     # print('URL:', tag.get('href', None))\n",
    "#     print('Contents:', tag.contents[0])\n",
    "#     # print('Attrs:', tag.attrs)"
   ]
  },
  {
   "cell_type": "code",
   "execution_count": 1,
   "metadata": {},
   "outputs": [
    {
     "name": "stdout",
     "output_type": "stream",
     "text": [
      "Retrieving: http://py4e-data.dr-chuck.net/known_by_Cahl.html\n",
      "Retrieving: http://py4e-data.dr-chuck.net/known_by_Rosemary.html\n",
      "Retrieving: http://py4e-data.dr-chuck.net/known_by_Caoilfhinn.html\n",
      "Retrieving: http://py4e-data.dr-chuck.net/known_by_Natania.html\n",
      "Retrieving: http://py4e-data.dr-chuck.net/known_by_Calder.html\n",
      "Retrieving: http://py4e-data.dr-chuck.net/known_by_Hanim.html\n",
      "Retrieving: http://py4e-data.dr-chuck.net/known_by_Moore.html\n",
      "Retrieving: http://py4e-data.dr-chuck.net/known_by_Taqwah.html\n"
     ]
    }
   ],
   "source": [
    "# To run this, download the BeautifulSoup zip file\n",
    "# http://www.py4e.com/code3/bs4.zip\n",
    "# and unzip it in the same directory as this file\n",
    "\n",
    "import urllib.request, urllib.parse, urllib.error\n",
    "from bs4 import BeautifulSoup\n",
    "import ssl\n",
    "\n",
    "# Ignore SSL certificate errors\n",
    "ctx = ssl.create_default_context()\n",
    "ctx.check_hostname = False\n",
    "ctx.verify_mode = ssl.CERT_NONE\n",
    "\n",
    "# url = input('Enter - ')\n",
    "# url = 'http://py4e-data.dr-chuck.net/known_by_Fikret.html'\n",
    "url = 'http://py4e-data.dr-chuck.net/known_by_Rylan.html'\n",
    "count = 7\n",
    "position = 18\n",
    "while count >= 0:\n",
    "    html = urllib.request.urlopen(url, context=ctx).read()\n",
    "    soup = BeautifulSoup(html, 'html.parser') # soup is whole html page.\n",
    "    desired_tag = soup('a')[position - 1]\n",
    "    url = desired_tag.get('href', None) # extract web address after \"href\"\n",
    "    print('Retrieving:', url)\n",
    "    count =count - 1"
   ]
  },
  {
   "cell_type": "code",
   "execution_count": null,
   "metadata": {},
   "outputs": [],
   "source": [
    "# To run this, download the BeautifulSoup zip file\n",
    "# http://www.py4e.com/code3/bs4.zip\n",
    "# and unzip it in the same directory as this file\n",
    "\n",
    "# this is a sample code, do not excute.\n",
    "\n",
    "import urllib.request, urllib.parse, urllib.error\n",
    "from bs4 import BeautifulSoup\n",
    "import ssl\n",
    "\n",
    "# Ignore SSL certificate errors\n",
    "ctx = ssl.create_default_context()\n",
    "ctx.check_hostname = False\n",
    "ctx.verify_mode = ssl.CERT_NONE\n",
    "\n",
    "url = input('Enter - ')\n",
    "html = urllib.request.urlopen(url, context=ctx).read()\n",
    "soup = BeautifulSoup(html, 'html.parser')\n",
    "\n",
    "# Retrieve all of the anchor tags\n",
    "tags = soup('a')\n",
    "for tag in tags:\n",
    "    print(tag.get('href', None))"
   ]
  },
  {
   "cell_type": "code",
   "execution_count": 2,
   "metadata": {},
   "outputs": [
    {
     "name": "stdout",
     "output_type": "stream",
     "text": [
      "Name: Chuck\n",
      "Attr: yes\n"
     ]
    }
   ],
   "source": [
    "import xml.etree.ElementTree as ET\n",
    "data='''<person>\n",
    "    <name>Chuck</name>\n",
    "    <phone type=\"intl\">\n",
    "    +1 734 303 4456\n",
    "    </phone>\n",
    "    <email hide=\"yes\"/>\n",
    "</person>'''\n",
    " # ''' means a multi-line string\n",
    "tree=ET.fromstring(data)\n",
    "print ('Name:',tree.find('name').text)\n",
    "print ('Attr:',tree.find('email').get('hide'))"
   ]
  },
  {
   "cell_type": "code",
   "execution_count": 3,
   "metadata": {},
   "outputs": [
    {
     "name": "stdout",
     "output_type": "stream",
     "text": [
      "User count:  2\n",
      "Name Chuck\n",
      "Id 001\n",
      "Attribute 2\n",
      "Name Brent\n",
      "Id 009\n",
      "Attribute 7\n"
     ]
    }
   ],
   "source": [
    "import xml.etree.ElementTree as ET\n",
    "input='''<stuff>\n",
    "    <users>\n",
    "        <user x=\"2\">\n",
    "            <id>001</id>\n",
    "            <name>Chuck</name>\n",
    "        </user>\n",
    "        <user x=\"7\">\n",
    "            <id>009</id>\n",
    "            <name>Brent</name>\n",
    "        </user>\n",
    "    </users>\n",
    "</stuff>'''\n",
    "\n",
    "stuff=ET.fromstring(input)\n",
    "lst=stuff.findall('users/user')\n",
    "print('User count: ', len(lst))\n",
    "for item in lst:\n",
    "    print('Name',item.find('name').text)\n",
    "    print('Id',item.find('id').text)\n",
    "    print('Attribute', item.get('x'))"
   ]
  },
  {
   "cell_type": "code",
   "execution_count": 10,
   "metadata": {},
   "outputs": [
    {
     "name": "stdout",
     "output_type": "stream",
     "text": [
      "User count:  50\n",
      "2407\n"
     ]
    }
   ],
   "source": [
    "import urllib.request, urllib.parse, urllib.error\n",
    "import xml.etree.ElementTree as ET\n",
    "import ssl\n",
    "from bs4 import BeautifulSoup\n",
    "\n",
    "api_key = False\n",
    "# If you have a Google Places API key, enter it here\n",
    "# api_key = 'AIzaSy___IDByT70'\n",
    "# https://developers.google.com/maps/documentation/geocoding/intro\n",
    "\n",
    "if api_key is False:\n",
    "    api_key = 42\n",
    "    serviceurl = 'http://py4e-data.dr-chuck.net/xml?'\n",
    "else :\n",
    "    serviceurl = 'https://maps.googleapis.com/maps/api/geocode/xml?'\n",
    "\n",
    "# Ignore SSL certificate errors\n",
    "ctx = ssl.create_default_context()\n",
    "ctx.check_hostname = False\n",
    "ctx.verify_mode = ssl.CERT_NONE\n",
    "\n",
    "url='http://py4e-data.dr-chuck.net/comments_1530197.xml'\n",
    "html=urllib.request.urlopen(url, context=ctx).read()\n",
    "soup=BeautifulSoup(html,'html.parser')\n",
    "stuff=ET.fromstring(html)\n",
    "lst=stuff.findall('.//count')\n",
    "print('User count: ', len(lst))\n",
    "\n",
    "# Retrieve all of the anchor tags, anchor tag is <a to </a, view page source\n",
    "y=list()\n",
    "tags = soup('count')\n",
    "for tag in tags:\n",
    "    y.append(int(tag.contents[0]))\n",
    "print(sum(y))\n"
   ]
  },
  {
   "cell_type": "code",
   "execution_count": 7,
   "metadata": {},
   "outputs": [
    {
     "name": "stdout",
     "output_type": "stream",
     "text": [
      "Name: Chuck\n",
      "Hide: {'hide': 'yes'} ['type']\n"
     ]
    }
   ],
   "source": [
    "import json\n",
    "\n",
    "data='''\n",
    "{\n",
    "    \"name\":\"Chuck\",\n",
    "    \"phone\":{\n",
    "        \"type\":\"intl\",\n",
    "        \"number\":\"1 734 303 4456\"\n",
    "    },\n",
    "    \"email\":{\n",
    "        \"hide\":\"yes\"\n",
    "    }\n",
    "}'''\n",
    "\n",
    "info=json.loads(data)\n",
    "print('Name:',info[\"name\"])\n",
    "print('Hide:',info[\"email\"],[\"type\"])"
   ]
  },
  {
   "cell_type": "code",
   "execution_count": 8,
   "metadata": {},
   "outputs": [
    {
     "name": "stdout",
     "output_type": "stream",
     "text": [
      "User count: 2\n",
      "Name Chuck\n",
      "Id 001\n",
      "Attribute 2\n",
      "Name Chuck\n",
      "Id 009\n",
      "Attribute 7\n"
     ]
    }
   ],
   "source": [
    "input='''\n",
    "[\n",
    "    {\"id\":\"001\",\n",
    "    \"x\":\"2\",\n",
    "    \"name\":\"Chuck\"\n",
    "    },\n",
    "    {\"id\":\"009\",\n",
    "    \"x\":\"7\",\n",
    "    \"name\":\"Brent\"}\n",
    "]'''\n",
    "\n",
    "info=json.loads(input)\n",
    "print('User count:', len(info))\n",
    "\n",
    "for item in info:\n",
    "    print('Name', item['name'])\n",
    "    print('Id', item['id'])\n",
    "    print('Attribute', item['x'])"
   ]
  },
  {
   "cell_type": "code",
   "execution_count": null,
   "metadata": {},
   "outputs": [],
   "source": [
    "\n",
    "\n",
    "import urllib.request, urllib.parse, urllib.error\n",
    "import xml.etree.ElementTree as ET\n",
    "import ssl\n",
    "\n",
    "api_key = False\n",
    "# If you have a Google Places API key, enter it here\n",
    "# api_key = 'AIzaSy___IDByT70'\n",
    "# https://developers.google.com/maps/documentation/geocoding/intro\n",
    "\n",
    "if api_key is False:\n",
    "    api_key = 42\n",
    "    serviceurl = 'http://py4e-data.dr-chuck.net/xml?'\n",
    "else :\n",
    "    serviceurl = 'https://maps.googleapis.com/maps/api/geocode/xml?'\n",
    "\n",
    "# Ignore SSL certificate errors\n",
    "ctx = ssl.create_default_context()\n",
    "ctx.check_hostname = False\n",
    "ctx.verify_mode = ssl.CERT_NONE\n",
    "\n",
    "while True:\n",
    "    address = input('Enter location: ')\n",
    "    if len(address) < 1: break\n",
    "\n",
    "    parms = dict()\n",
    "    parms['address'] = address\n",
    "    if api_key is not False: parms['key'] = api_key\n",
    "    url = serviceurl + urllib.parse.urlencode(parms)\n",
    "    print('Retrieving', url)\n",
    "    uh = urllib.request.urlopen(url, context=ctx)\n",
    "\n",
    "    data = uh.read()\n",
    "    print('Retrieved', len(data), 'characters')\n",
    "    print(data.decode())\n",
    "    tree = ET.fromstring(data)\n",
    "\n",
    "    results = tree.findall('result')\n",
    "    lat = results[0].find('geometry').find('location').find('lat').text\n",
    "    lng = results[0].find('geometry').find('location').find('lng').text\n",
    "    location = results[0].find('formatted_address').text\n",
    "\n",
    "    print('lat', lat, 'lng', lng)\n",
    "    print(location)"
   ]
  },
  {
   "cell_type": "code",
   "execution_count": 13,
   "metadata": {},
   "outputs": [
    {
     "name": "stdout",
     "output_type": "stream",
     "text": [
      "2566\n"
     ]
    }
   ],
   "source": [
    "import urllib.request, urllib.parse, urllib.error\n",
    "import ssl\n",
    "import json\n",
    "\n",
    "api_key = False\n",
    "# If you have a Google Places API key, enter it here\n",
    "# api_key = 'AIzaSy___IDByT70'\n",
    "# https://developers.google.com/maps/documentation/geocoding/intro\n",
    "\n",
    "if api_key is False:\n",
    "    api_key = 42\n",
    "    serviceurl = 'http://py4e-data.dr-chuck.net/xml?'\n",
    "else :\n",
    "    serviceurl = 'https://maps.googleapis.com/maps/api/geocode/xml?'\n",
    "\n",
    "# Ignore SSL certificate errors\n",
    "ctx = ssl.create_default_context()\n",
    "ctx.check_hostname = False\n",
    "ctx.verify_mode = ssl.CERT_NONE\n",
    "\n",
    "url='http://py4e-data.dr-chuck.net/comments_1530198.json'\n",
    "fhand=urllib.request.urlopen(url, context=ctx).read().decode()\n",
    "info=json.loads(fhand)\n",
    "datas=info[\"comments\"]\n",
    "y=list()\n",
    "for node in datas:\n",
    "    y.append(node['count'])\n",
    "print(sum(y))"
   ]
  },
  {
   "cell_type": "code",
   "execution_count": 17,
   "metadata": {},
   "outputs": [
    {
     "name": "stdout",
     "output_type": "stream",
     "text": [
      "http://py4e-data.dr-chuck.net/json?address=Hanoi+University+of+Science+and+Technology&key=42\n"
     ]
    },
    {
     "data": {
      "text/plain": [
       "'ChIJ122rzHasNTERA32pB1sq6VU'"
      ]
     },
     "execution_count": 17,
     "metadata": {},
     "output_type": "execute_result"
    }
   ],
   "source": [
    "import urllib.request, urllib.parse, urllib.error\n",
    "import json\n",
    "import ssl\n",
    "\n",
    "# Ignore SSL certificate errors\n",
    "ctx = ssl.create_default_context()\n",
    "ctx.check_hostname = False\n",
    "ctx.verify_mode = ssl.CERT_NONE\n",
    "\n",
    "parms = {'address':'Hanoi University of Science and Technology','key': 42}\n",
    "serviceurl = 'http://py4e-data.dr-chuck.net/json?'\n",
    "url = serviceurl + urllib.parse.urlencode(parms)\n",
    "print(url)\n",
    "uh = urllib.request.urlopen(url, context=ctx).read().decode()\n",
    "js = json.loads(uh)\n",
    "place_id = js['results'][0]['place_id']\n",
    "place_id"
   ]
  },
  {
   "cell_type": "code",
   "execution_count": 1,
   "metadata": {},
   "outputs": [
    {
     "name": "stdout",
     "output_type": "stream",
     "text": [
      "71\n"
     ]
    }
   ],
   "source": [
    "print(ord('G'))"
   ]
  },
  {
   "cell_type": "code",
   "execution_count": 10,
   "metadata": {},
   "outputs": [
    {
     "name": "stdout",
     "output_type": "stream",
     "text": [
      "so far 1\n",
      "so far 2\n",
      "so far 3\n",
      "Type: <class '__main__.PartyAnimal'>\n",
      "Dir: ['__class__', '__delattr__', '__dict__', '__dir__', '__doc__', '__eq__', '__format__', '__ge__', '__getattribute__', '__gt__', '__hash__', '__init__', '__init_subclass__', '__le__', '__lt__', '__module__', '__ne__', '__new__', '__reduce__', '__reduce_ex__', '__repr__', '__setattr__', '__sizeof__', '__str__', '__subclasshook__', '__weakref__', 'party', 'x']\n"
     ]
    }
   ],
   "source": [
    "# class and Object\n",
    "\n",
    "class PartyAnimal: # PartyAnimal is a class, like list, string...\n",
    "    x=0            # Each PartyAnumal object has a bit of data.\n",
    "    def party(self):\n",
    "        self.x=self.x+1 # self is a method, \".\" dot is an operator\n",
    "        print(\"so far\",self.x) # End of data.\n",
    "\n",
    "an=PartyAnimal()   # Construct a PartyAnimal object and store in an variable, eg.:an=list(), an is an object,\n",
    "                   # Minting the data into a class called PartyAnimal.\n",
    "an.party()         # PartyAnimal.party(an), an.x=an.x+1\n",
    "an.party() \n",
    "an.party() \n",
    "\n",
    "print('Type:', type(an)) # Ignore the ones with underscores, these are used by Python itself.\n",
    "print('Dir:', dir(an))"
   ]
  },
  {
   "cell_type": "code",
   "execution_count": 11,
   "metadata": {},
   "outputs": [
    {
     "name": "stdout",
     "output_type": "stream",
     "text": [
      "I am constructed\n",
      "so far 1\n",
      "so far 2\n",
      "I am destructed 2\n",
      "an contains 42\n"
     ]
    }
   ],
   "source": [
    "class PartyAnimal: \n",
    "    x=0 \n",
    "\n",
    "    def __init__(self): # constructor\n",
    "        print('I am constructed')         \n",
    "    \n",
    "    def party(self):\n",
    "        self.x=self.x+1 \n",
    "        print(\"so far\", self.x) \n",
    "    \n",
    "    def __del__(self):  # destructor\n",
    "        print('I am destructed', self.x)\n",
    "\n",
    "an=PartyAnimal()   \n",
    "                   \n",
    "an.party()         \n",
    "an.party() \n",
    "an=42      # destructive moment, an is no longer PartyAnimal.\n",
    "print('an contains',an)"
   ]
  },
  {
   "cell_type": "code",
   "execution_count": 12,
   "metadata": {},
   "outputs": [
    {
     "name": "stdout",
     "output_type": "stream",
     "text": [
      "Sally constructed\n",
      "self.name party count 1\n",
      "Jim constructed\n",
      "self.name party count 1\n",
      "self.name party count 2\n"
     ]
    }
   ],
   "source": [
    "class PartyAnimal: \n",
    "    x=0 \n",
    "    name=''\n",
    "    def __init__(self,z): # constructor\n",
    "        self.name=z\n",
    "        print(self.name, 'constructed')         \n",
    "    \n",
    "    def party(self):\n",
    "        self.x=self.x+1 \n",
    "        print('self.name', 'party count',self.x) \n",
    "\n",
    "s=PartyAnimal('Sally')   \n",
    "s.party()\n",
    "                \n",
    "j=PartyAnimal('Jim')          \n",
    "j.party() \n",
    "s.party()"
   ]
  },
  {
   "cell_type": "code",
   "execution_count": 13,
   "metadata": {},
   "outputs": [
    {
     "name": "stdout",
     "output_type": "stream",
     "text": [
      "Sally constructed\n",
      "self.name party count 1\n",
      "Jim constructed\n",
      "self.name party count 1\n",
      "self.name party count 2\n",
      "Jim points 7\n"
     ]
    }
   ],
   "source": [
    "class PartyAnimal: \n",
    "    x=0 \n",
    "    name=''\n",
    "    def __init__(self,nam): \n",
    "        self.name=nam\n",
    "        print(self.name, 'constructed')         \n",
    "    \n",
    "    def party(self):\n",
    "        self.x=self.x+1 \n",
    "        print('self.name', 'party count',self.x) \n",
    "\n",
    "class FootballFan(PartyAnimal):\n",
    "    points=0\n",
    "    def touchdown(self):\n",
    "        self.points=self.points+7\n",
    "        self.party()\n",
    "        print(self.name,'points',self.points)\n",
    "\n",
    "s=PartyAnimal('Sally')   \n",
    "s.party()\n",
    "                \n",
    "j=FootballFan('Jim')          \n",
    "j.party() \n",
    "j.touchdown()"
   ]
  },
  {
   "cell_type": "code",
   "execution_count": 8,
   "metadata": {},
   "outputs": [
    {
     "name": "stdout",
     "output_type": "stream",
     "text": [
      "('iupui.edu', 536)\n",
      "('umich.edu', 491)\n",
      "('indiana.edu', 178)\n",
      "('caret.cam.ac.uk', 157)\n",
      "('vt.edu', 110)\n",
      "('uct.ac.za', 96)\n",
      "('media.berkeley.edu', 56)\n",
      "('ufp.pt', 28)\n",
      "('gmail.com', 25)\n",
      "('et.gatech.edu', 17)\n",
      "('txstate.edu', 17)\n",
      "('whitman.edu', 17)\n",
      "('lancaster.ac.uk', 14)\n",
      "('bu.edu', 14)\n",
      "('stanford.edu', 12)\n",
      "('unicon.net', 9)\n",
      "('loi.nl', 9)\n",
      "('rsmart.com', 8)\n",
      "('ucdavis.edu', 1)\n",
      "('fhda.edu', 1)\n",
      "('utoronto.ca', 1)\n"
     ]
    }
   ],
   "source": [
    "import sqlite3 # import SQL Library\n",
    "\n",
    "fname = 'mbox.txt'\n",
    "t_dict = dict()\n",
    "fh = open(fname)\n",
    "for line in fh:\n",
    "    if not line.startswith('From: '): continue\n",
    "    pieces = line.split()\n",
    "    domain = pieces[1].split('@')[1]\n",
    "    t_dict[domain] = t_dict.get(domain, 0) + 1 \n",
    "\n",
    "conn = sqlite3.connect('emaildb.sqlite')\n",
    "\n",
    "cur = conn.cursor() # cursor is like a file handle. send SQL command to the cursor, and get responses thorugh the same cursor\n",
    "cur.execute('DROP TABLE IF EXISTS Counts') # if the table is called \"Count\", if not, can skip this line.\n",
    "cur.execute('''CREATE TABLE Counts (org TEXT, count INTEGER)''') # same command as in SQLite, create a table called \"Count\".\n",
    "\n",
    "for domain, count in t_dict.items():\n",
    "    cur.execute('''INSERT INTO Counts (org, count) VALUES (?, ?)''', (domain,count)) # ? is a place holder.  insert \"(domain,count)\" into column 'org' and 'count'.\n",
    "    \n",
    "conn.commit() # put execute content into conn, which is 'emaildb.sqlite'\n",
    "for item in cur.execute('SELECT * FROM Counts ORDER BY count DESC'):\n",
    "    print(item)\n",
    "\n",
    "cur.close()\n",
    "# print(t_dict)"
   ]
  },
  {
   "cell_type": "code",
   "execution_count": 5,
   "metadata": {},
   "outputs": [
    {
     "name": "stdout",
     "output_type": "stream",
     "text": [
      "('INSERT INTO Counts (org, count) VALUES (?, ?)', ('sadasda', 97)) <class 'tuple'>\n"
     ]
    }
   ],
   "source": [
    "domain = 'sadasda'\n",
    "count = 97\n",
    "a= '''INSERT INTO Counts (org, count) VALUES (?, ?)''', (domain,count)\n",
    "print(a, type(a))"
   ]
  },
  {
   "cell_type": "code",
   "execution_count": null,
   "metadata": {},
   "outputs": [],
   "source": [
    "# SQL sample code, do not run.\n",
    "# everytime clear previous code when you run in SQL.\n",
    "\n",
    "CREATE TABLE Ages ( \n",
    "  name VARCHAR(128), \n",
    "  age INTEGER\n",
    ")\n",
    "\n",
    "DELETE FROM Ages;\n",
    "INSERT INTO Ages (name, age) VALUES ('Meko', 30);\n",
    "INSERT INTO Ages (name, age) VALUES ('Zanab', 39);\n",
    "INSERT INTO Ages (name, age) VALUES ('Aroob', 38);\n",
    "INSERT INTO Ages (name, age) VALUES ('Gretchen', 27);\n",
    "\n",
    "SELECT hex(name || age) AS X FROM Ages ORDER BY X"
   ]
  },
  {
   "cell_type": "code",
   "execution_count": 10,
   "metadata": {},
   "outputs": [
    {
     "name": "stdout",
     "output_type": "stream",
     "text": [
      "iupui.edu 536\n",
      "umich.edu 491\n",
      "indiana.edu 178\n",
      "caret.cam.ac.uk 157\n",
      "vt.edu 110\n",
      "uct.ac.za 96\n",
      "media.berkeley.edu 56\n",
      "ufp.pt 28\n",
      "gmail.com 25\n",
      "et.gatech.edu 17\n"
     ]
    }
   ],
   "source": [
    "import sqlite3\n",
    "\n",
    "conn = sqlite3.connect('emaildb.sqlite')\n",
    "cur = conn.cursor()\n",
    "\n",
    "cur.execute('DROP TABLE IF EXISTS Counts')\n",
    "\n",
    "cur.execute('''\n",
    "CREATE TABLE Counts (email TEXT, count INTEGER)''')\n",
    "\n",
    "fname = input('Enter file name: ')\n",
    "if (len(fname) < 1): fname = 'mbox.txt'\n",
    "fh = open(fname)\n",
    "for line in fh:\n",
    "    if not line.startswith('From: '): continue\n",
    "    pieces = line.split()\n",
    "    email = pieces[1].split('@')[1]\n",
    "    cur.execute('SELECT count FROM Counts WHERE email = ? ', (email,))\n",
    "    row = cur.fetchone()\n",
    "    if row is None:\n",
    "        cur.execute('''INSERT INTO Counts (email, count)\n",
    "                VALUES (?, 1)''', (email,))\n",
    "    else:\n",
    "        cur.execute('UPDATE Counts SET count = count + 1 WHERE email = ?',\n",
    "                    (email,))\n",
    "    conn.commit()\n",
    "\n",
    "# https://www.sqlite.org/lang_select.html\n",
    "sqlstr = 'SELECT email, count FROM Counts ORDER BY count DESC LIMIT 10'\n",
    "\n",
    "for row in cur.execute(sqlstr):\n",
    "    print(str(row[0]), row[1])\n",
    "\n",
    "cur.close()"
   ]
  },
  {
   "cell_type": "code",
   "execution_count": 3,
   "metadata": {},
   "outputs": [],
   "source": [
    "import xml.etree.ElementTree as ET\n",
    "import sqlite3\n",
    "\n",
    "conn = sqlite3.connect('trackdb.sqlite')\n",
    "cur = conn.cursor()\n",
    "\n",
    "# Make some fresh tables using executescript()\n",
    "cur.executescript('''\n",
    "DROP TABLE IF EXISTS Artist;\n",
    "DROP TABLE IF EXISTS Album;\n",
    "DROP TABLE IF EXISTS Track;\n",
    "DROP TABLE IF EXISTS Genre;\n",
    "\n",
    "CREATE TABLE Artist (\n",
    "    id  INTEGER NOT NULL PRIMARY KEY AUTOINCREMENT UNIQUE,\n",
    "    name    TEXT UNIQUE\n",
    ");\n",
    "\n",
    "CREATE TABLE Genre (\n",
    "    id  INTEGER NOT NULL PRIMARY KEY AUTOINCREMENT UNIQUE,\n",
    "    name    TEXT UNIQUE\n",
    ");\n",
    "\n",
    "CREATE TABLE Album (\n",
    "    id  INTEGER NOT NULL PRIMARY KEY AUTOINCREMENT UNIQUE,\n",
    "    artist_id  INTEGER,\n",
    "    title   TEXT UNIQUE\n",
    ");\n",
    "\n",
    "CREATE TABLE Track (\n",
    "    id  INTEGER NOT NULL PRIMARY KEY AUTOINCREMENT UNIQUE,\n",
    "    title TEXT  UNIQUE,\n",
    "    album_id  INTEGER,\n",
    "    genre_id  INTEGER,\n",
    "    len INTEGER, rating INTEGER, count INTEGER\n",
    ");\n",
    "''')\n",
    "\n",
    "\n",
    "fname = input('Enter file name: ')\n",
    "if ( len(fname) < 1 ) : fname = 'Library.xml'\n",
    "\n",
    "# <key>Track ID</key><integer>369</integer>\n",
    "# <key>Name</key><string>Another One Bites The Dust</string>\n",
    "# <key>Artist</key><string>Queen</string>\n",
    "def lookup(d, key):\n",
    "    found = False\n",
    "    for child in d:\n",
    "        if found : return child.text\n",
    "        if child.tag == 'key' and child.text == key :\n",
    "            found = True\n",
    "    return None\n",
    "\n",
    "stuff = ET.parse(fname)\n",
    "all = stuff.findall('dict/dict/dict')\n",
    "# print('Dict count:', len(all))\n",
    "for entry in all:\n",
    "    if ( lookup(entry, 'Track ID') is None ) : continue\n",
    "    track_id = lookup(entry, 'Track ID')\n",
    "    name = lookup(entry, 'Name')\n",
    "    artist = lookup(entry, 'Artist')\n",
    "    album = lookup(entry, 'Album')\n",
    "    count = lookup(entry, 'Play Count')\n",
    "    rating = lookup(entry, 'Rating')\n",
    "    length = lookup(entry, 'Total Time')\n",
    "    genre = lookup(entry, 'Genre')\n",
    "    # print('@@@', track_id)\n",
    "    if name is None or artist is None or album is None or genre is None: \n",
    "        continue\n",
    "\n",
    "    # print('@'.join([genre,name, artist, album]))\n",
    "\n",
    "    cur.execute('''INSERT OR IGNORE INTO Artist (name) VALUES ( ? )''', ( artist, ) )\n",
    "    cur.execute('''INSERT OR IGNORE INTO Genre (name) VALUES ( ? )''', ( genre, ) )\n",
    "    conn.commit()\n",
    "    cur.execute('SELECT id FROM Artist WHERE name = ? ', (artist, ))\n",
    "    artist_id = cur.fetchone()[0]\n",
    "\n",
    "    cur.execute('''INSERT OR IGNORE INTO Album (title, artist_id) \n",
    "        VALUES ( ?, ? )''', ( album, artist_id ) )\n",
    "    conn.commit()\n",
    "    cur.execute('SELECT id FROM Album WHERE title = ? ', (album, ))\n",
    "    album_id = cur.fetchone()[0]\n",
    "    cur.execute('SELECT id FROM Genre WHERE name = ? ', (genre, ))\n",
    "    genre_id = cur.fetchone()[0]\n",
    "    cur.execute('''INSERT OR REPLACE INTO Track\n",
    "        (title, album_id, genre_id, len, rating, count) \n",
    "        VALUES ( ?, ?, ?, ?,?, ? )''', \n",
    "        ( name, album_id, genre_id, length, rating, count ) )\n",
    "\n",
    "    conn.commit()"
   ]
  },
  {
   "cell_type": "code",
   "execution_count": null,
   "metadata": {},
   "outputs": [],
   "source": [
    "import json\n",
    "import sqlite3\n",
    "\n",
    "conn = sqlite3.connect('rosterdb.sqlite')\n",
    "cur = conn.cursor()\n",
    "\n",
    "# Do some setup, drop can wipe off the storage and every time start a new run\n",
    "cur.executescript('''\n",
    "DROP TABLE IF EXISTS User; \n",
    "DROP TABLE IF EXISTS Member;\n",
    "DROP TABLE IF EXISTS Course;\n",
    "\n",
    "CREATE TABLE User (\n",
    "    id     INTEGER NOT NULL PRIMARY KEY AUTOINCREMENT UNIQUE,\n",
    "    name   TEXT UNIQUE\n",
    ");\n",
    "\n",
    "CREATE TABLE Course (\n",
    "    id     INTEGER NOT NULL PRIMARY KEY AUTOINCREMENT UNIQUE,\n",
    "    title  TEXT UNIQUE\n",
    ");\n",
    "\n",
    "CREATE TABLE Member (\n",
    "    user_id     INTEGER,\n",
    "    course_id   INTEGER,\n",
    "    role        INTEGER,\n",
    "    PRIMARY KEY (user_id, course_id)\n",
    ")\n",
    "''')\n",
    "\n",
    "fname = input('Enter file name: ')\n",
    "if len(fname) < 1:\n",
    "    fname = 'roster_data.json'\n",
    "\n",
    "# [\n",
    "#   [ \"Charley\", \"si110\", 1 ],\n",
    "#   [ \"Mea\", \"si110\", 0 ],\n",
    "\n",
    "str_data = open(fname).read()\n",
    "json_data = json.loads(str_data)\n",
    "\n",
    "for entry in json_data:\n",
    "\n",
    "    name = entry[0]\n",
    "    title = entry[1]\n",
    "    role=entry[2]\n",
    "\n",
    "    print((name, title, role))\n",
    "\n",
    "    cur.execute('''INSERT OR IGNORE INTO User (name)\n",
    "        VALUES ( ? )''', ( name, ) )\n",
    "    cur.execute('SELECT id FROM User WHERE name = ? ', (name, ))\n",
    "    user_id = cur.fetchone()[0]\n",
    "\n",
    "    cur.execute('''INSERT OR IGNORE INTO Course (title)\n",
    "        VALUES ( ? )''', ( title, ) )\n",
    "    cur.execute('SELECT id FROM Course WHERE title = ? ', (title, ))\n",
    "    course_id = cur.fetchone()[0]\n",
    "\n",
    "    cur.execute('''INSERT OR REPLACE INTO Member\n",
    "        (user_id, course_id, role) VALUES ( ?,? )''',\n",
    "        ( user_id, course_id, role ) )\n",
    "    \n",
    "    # It's wrong to split the role as below, because it's insert a new row\n",
    "    # cur.execute('''INSERT OR REPLACE INTO Member\n",
    "    #     (role) VALUES ( ? )''',\n",
    "    #     ( role, ) )\n",
    "\n",
    "    conn.commit()"
   ]
  }
 ],
 "metadata": {
  "interpreter": {
   "hash": "c9c73e1c24ac646c07cb4bdc03e78c6aff115c5a30da3d464653713d8cc3e323"
  },
  "kernelspec": {
   "display_name": "Python 3.8.6 64-bit",
   "language": "python",
   "name": "python3"
  },
  "language_info": {
   "codemirror_mode": {
    "name": "ipython",
    "version": 3
   },
   "file_extension": ".py",
   "mimetype": "text/x-python",
   "name": "python",
   "nbconvert_exporter": "python",
   "pygments_lexer": "ipython3",
   "version": "3.8.6"
  },
  "orig_nbformat": 4
 },
 "nbformat": 4,
 "nbformat_minor": 2
}
